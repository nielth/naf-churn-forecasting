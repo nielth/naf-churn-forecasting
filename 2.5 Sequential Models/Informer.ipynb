{
 "cells": [
  {
   "cell_type": "code",
   "execution_count": null,
   "id": "40bc7a97",
   "metadata": {},
   "outputs": [],
   "source": [
    "import torch\n",
    "from torch import nn\n",
    "from torch.utils.data import Dataset, DataLoader\n",
    "from torch.nn.utils.rnn import pad_sequence, pack_padded_sequence\n",
    "from tqdm import tqdm"
   ]
  },
  {
   "cell_type": "code",
   "execution_count": null,
   "id": "d3979f23",
   "metadata": {},
   "outputs": [],
   "source": [
    "device = torch.device(\"cuda\" if torch.cuda.is_available() else \"cpu\")\n",
    "\n",
    "# Feature columns\n",
    "feature_cols = [\n",
    "    \"year\",\n",
    "    \"membership_year\",\n",
    "    \"is_household\",\n",
    "    \"vehicle_count\",\n",
    "    \"vehicle_age_mean\",\n",
    "    \"beløp\",\n",
    "    \"gave_feedback\",\n",
    "    \"mean_feedback\",\n",
    "    \"age\",\n",
    "    \"gender\",\n",
    "    \"sentralitetsindex\",\n",
    "]\n",
    "\n",
    "# Load the examples\n",
    "train_examples = torch.load(\"all/train_examples.pt\")\n",
    "val_examples = torch.load(\"all/val_examples.pt\")"
   ]
  },
  {
   "cell_type": "code",
   "execution_count": 3,
   "id": "4957cd5c",
   "metadata": {},
   "outputs": [],
   "source": [
    "# 4. Dataset & DataLoader\n",
    "class ChurnDataset(Dataset):\n",
    "    def __init__(self, examples):\n",
    "        self.examples = examples\n",
    "\n",
    "    def __len__(self):\n",
    "        return len(self.examples)\n",
    "\n",
    "    def __getitem__(self, idx):\n",
    "        seq, length, label = self.examples[idx]\n",
    "        return seq, length, label\n",
    "\n",
    "\n",
    "def collate_fn(batch):\n",
    "    seqs, lengths, labels = zip(*batch)\n",
    "    # pad to the max seq‐len in the batch\n",
    "    seqs_padded = pad_sequence(seqs, batch_first=True)  # [B, T, F]\n",
    "    lengths = torch.tensor(lengths, dtype=torch.long)  # [B]\n",
    "    labels = torch.tensor(labels, dtype=torch.long)  # [B]\n",
    "    # build an attention mask: True == padding\n",
    "    max_len = seqs_padded.size(1)\n",
    "    # shape [B, T]: for each example, positions >= length are padding\n",
    "    attn_mask = torch.arange(max_len, device=lengths.device).unsqueeze(0).expand(\n",
    "        len(lengths), -1\n",
    "    ) >= lengths.unsqueeze(1)\n",
    "    return (\n",
    "        seqs_padded.to(device),\n",
    "        lengths.to(device),\n",
    "        attn_mask.to(device),\n",
    "        labels.to(device),\n",
    "    )\n",
    "\n",
    "\n",
    "train_ds = ChurnDataset(train_examples)\n",
    "val_ds = ChurnDataset(val_examples)\n",
    "train_loader = DataLoader(train_ds, batch_size=512, shuffle=True, collate_fn=collate_fn)\n",
    "val_loader = DataLoader(val_ds, batch_size=512, shuffle=False, collate_fn=collate_fn)"
   ]
  },
  {
   "cell_type": "code",
   "execution_count": 4,
   "id": "45d80f5b",
   "metadata": {},
   "outputs": [
    {
     "name": "stderr",
     "output_type": "stream",
     "text": [
      "/root/nielsen/informer-test/.venv/lib/python3.13/site-packages/torch/nn/modules/transformer.py:382: UserWarning: enable_nested_tensor is True, but self.use_nested_tensor is False because encoder_layer.norm_first was True\n",
      "  warnings.warn(\n"
     ]
    }
   ],
   "source": [
    "# 5. Model\n",
    "torch.manual_seed(42)\n",
    "\n",
    "\n",
    "class InformerClassifier(nn.Module):\n",
    "    def __init__(self, input_size, d_model, n_heads, e_layers, d_ff, num_classes):\n",
    "        super().__init__()\n",
    "        self.embedding = nn.Linear(input_size, d_model)\n",
    "        self.encoder_layer = nn.TransformerEncoderLayer(\n",
    "            d_model=d_model,\n",
    "            nhead=n_heads,\n",
    "            dim_feedforward=d_ff,\n",
    "            batch_first=True,\n",
    "            norm_first=True,\n",
    "        )\n",
    "        self.encoder = nn.TransformerEncoder(self.encoder_layer, num_layers=e_layers)\n",
    "        self.fc = nn.Linear(d_model, num_classes)\n",
    "\n",
    "    def forward(self, x, lengths, attn_mask):\n",
    "        # [B, T, F] → [B, T, d_model]\n",
    "        x = self.embedding(x)\n",
    "        # In PyTorch, TransformerEncoder expects mask == True for places NOT to attend (i.e., padding)\n",
    "        x = self.encoder(x, src_key_padding_mask=attn_mask)\n",
    "        # Use the last **non-padded** token representation\n",
    "        batch_size = x.size(0)\n",
    "        last_valid_indices = lengths - 1  # [B]\n",
    "        last_token_repr = x[torch.arange(batch_size), last_valid_indices]\n",
    "        out = self.fc(last_token_repr)\n",
    "        return out\n",
    "\n",
    "\n",
    "# Instantiate model\n",
    "input_size = len(feature_cols)\n",
    "d_model = 64  # Embedding size (similar to hidden_size)\n",
    "n_heads = 4  # Attention heads\n",
    "e_layers = 2  # Encoder layers\n",
    "d_ff = 256  # Feed-forward dimension\n",
    "num_classes = 3\n",
    "\n",
    "model = InformerClassifier(\n",
    "    input_size, d_model, n_heads, e_layers, d_ff, num_classes\n",
    ").to(device)\n",
    "\n",
    "# Loss & optimizer\n",
    "criterion = nn.CrossEntropyLoss()\n",
    "optimizer = torch.optim.Adam(model.parameters(), lr=1e-3)"
   ]
  },
  {
   "cell_type": "code",
   "execution_count": 5,
   "id": "db2ce0ff",
   "metadata": {},
   "outputs": [
    {
     "name": "stderr",
     "output_type": "stream",
     "text": [
      "\u001b[34m\u001b[1mwandb\u001b[0m: Currently logged in as: \u001b[33mjunta\u001b[0m to \u001b[32mhttps://api.wandb.ai\u001b[0m. Use \u001b[1m`wandb login --relogin`\u001b[0m to force relogin\n"
     ]
    },
    {
     "data": {
      "text/html": [
       "Tracking run with wandb version 0.19.11"
      ],
      "text/plain": [
       "<IPython.core.display.HTML object>"
      ]
     },
     "metadata": {},
     "output_type": "display_data"
    },
    {
     "data": {
      "text/html": [
       "Run data is saved locally in <code>/root/nielsen/informer-test/wandb/run-20250531_173922-osc5ic6h</code>"
      ],
      "text/plain": [
       "<IPython.core.display.HTML object>"
      ]
     },
     "metadata": {},
     "output_type": "display_data"
    },
    {
     "data": {
      "text/html": [
       "Syncing run <strong><a href='https://wandb.ai/junta/churn/runs/osc5ic6h' target=\"_blank\">informer</a></strong> to <a href='https://wandb.ai/junta/churn' target=\"_blank\">Weights & Biases</a> (<a href='https://wandb.me/developer-guide' target=\"_blank\">docs</a>)<br>"
      ],
      "text/plain": [
       "<IPython.core.display.HTML object>"
      ]
     },
     "metadata": {},
     "output_type": "display_data"
    },
    {
     "data": {
      "text/html": [
       " View project at <a href='https://wandb.ai/junta/churn' target=\"_blank\">https://wandb.ai/junta/churn</a>"
      ],
      "text/plain": [
       "<IPython.core.display.HTML object>"
      ]
     },
     "metadata": {},
     "output_type": "display_data"
    },
    {
     "data": {
      "text/html": [
       " View run at <a href='https://wandb.ai/junta/churn/runs/osc5ic6h' target=\"_blank\">https://wandb.ai/junta/churn/runs/osc5ic6h</a>"
      ],
      "text/plain": [
       "<IPython.core.display.HTML object>"
      ]
     },
     "metadata": {},
     "output_type": "display_data"
    },
    {
     "name": "stderr",
     "output_type": "stream",
     "text": [
      "Train: 100%|██████████| 588/588 [00:12<00:00, 48.00it/s, acc=0.518, loss=0.946]\n",
      "Val: 100%|██████████| 147/147 [00:02<00:00, 62.77it/s, acc=0.532, loss=0.877]\n"
     ]
    },
    {
     "name": "stdout",
     "output_type": "stream",
     "text": [
      "Epoch  1: train_loss=0.9566, train_acc=0.5182 | val_loss=0.9313, val_acc=0.5321\n"
     ]
    },
    {
     "name": "stderr",
     "output_type": "stream",
     "text": [
      "Train: 100%|██████████| 588/588 [00:12<00:00, 48.99it/s, acc=0.535, loss=0.915]\n",
      "Val: 100%|██████████| 147/147 [00:02<00:00, 62.76it/s, acc=0.546, loss=0.843]\n"
     ]
    },
    {
     "name": "stdout",
     "output_type": "stream",
     "text": [
      "Epoch  2: train_loss=0.9211, train_acc=0.5350 | val_loss=0.9020, val_acc=0.5460\n"
     ]
    },
    {
     "name": "stderr",
     "output_type": "stream",
     "text": [
      "Train: 100%|██████████| 588/588 [00:11<00:00, 49.13it/s, acc=0.542, loss=0.869]\n",
      "Val: 100%|██████████| 147/147 [00:02<00:00, 62.41it/s, acc=0.547, loss=0.833]\n"
     ]
    },
    {
     "name": "stdout",
     "output_type": "stream",
     "text": [
      "Epoch  3: train_loss=0.9065, train_acc=0.5422 | val_loss=0.8927, val_acc=0.5472\n"
     ]
    },
    {
     "name": "stderr",
     "output_type": "stream",
     "text": [
      "Train: 100%|██████████| 588/588 [00:12<00:00, 47.90it/s, acc=0.545, loss=0.893]\n",
      "Val: 100%|██████████| 147/147 [00:02<00:00, 61.51it/s, acc=0.551, loss=0.841]\n"
     ]
    },
    {
     "name": "stdout",
     "output_type": "stream",
     "text": [
      "Epoch  4: train_loss=0.9010, train_acc=0.5452 | val_loss=0.8944, val_acc=0.5509\n"
     ]
    },
    {
     "name": "stderr",
     "output_type": "stream",
     "text": [
      "Train: 100%|██████████| 588/588 [00:11<00:00, 49.20it/s, acc=0.547, loss=0.876]\n",
      "Val: 100%|██████████| 147/147 [00:02<00:00, 64.83it/s, acc=0.552, loss=0.826]\n"
     ]
    },
    {
     "name": "stdout",
     "output_type": "stream",
     "text": [
      "Epoch  5: train_loss=0.8964, train_acc=0.5471 | val_loss=0.8917, val_acc=0.5519\n"
     ]
    },
    {
     "name": "stderr",
     "output_type": "stream",
     "text": [
      "Train: 100%|██████████| 588/588 [00:11<00:00, 49.49it/s, acc=0.548, loss=0.886]\n",
      "Val: 100%|██████████| 147/147 [00:02<00:00, 63.54it/s, acc=0.55, loss=0.831] \n"
     ]
    },
    {
     "name": "stdout",
     "output_type": "stream",
     "text": [
      "Epoch  6: train_loss=0.8937, train_acc=0.5480 | val_loss=0.8909, val_acc=0.5499\n"
     ]
    },
    {
     "name": "stderr",
     "output_type": "stream",
     "text": [
      "Train: 100%|██████████| 588/588 [00:11<00:00, 49.26it/s, acc=0.548, loss=0.901]\n",
      "Val: 100%|██████████| 147/147 [00:02<00:00, 63.25it/s, acc=0.554, loss=0.821]\n"
     ]
    },
    {
     "name": "stdout",
     "output_type": "stream",
     "text": [
      "Epoch  7: train_loss=0.8919, train_acc=0.5482 | val_loss=0.8837, val_acc=0.5538\n"
     ]
    },
    {
     "name": "stderr",
     "output_type": "stream",
     "text": [
      "Train: 100%|██████████| 588/588 [00:11<00:00, 49.23it/s, acc=0.548, loss=0.842]\n",
      "Val: 100%|██████████| 147/147 [00:02<00:00, 62.75it/s, acc=0.551, loss=0.827]\n"
     ]
    },
    {
     "name": "stdout",
     "output_type": "stream",
     "text": [
      "Epoch  8: train_loss=0.8909, train_acc=0.5479 | val_loss=0.8841, val_acc=0.5509\n"
     ]
    },
    {
     "name": "stderr",
     "output_type": "stream",
     "text": [
      "Train: 100%|██████████| 588/588 [00:13<00:00, 42.24it/s, acc=0.55, loss=0.832] \n",
      "Val: 100%|██████████| 147/147 [00:03<00:00, 43.95it/s, acc=0.552, loss=0.833]\n"
     ]
    },
    {
     "name": "stdout",
     "output_type": "stream",
     "text": [
      "Epoch  9: train_loss=0.8891, train_acc=0.5498 | val_loss=0.8860, val_acc=0.5517\n"
     ]
    },
    {
     "name": "stderr",
     "output_type": "stream",
     "text": [
      "Train: 100%|██████████| 588/588 [00:14<00:00, 40.43it/s, acc=0.55, loss=0.861] \n",
      "Val: 100%|██████████| 147/147 [00:02<00:00, 61.53it/s, acc=0.554, loss=0.823]\n"
     ]
    },
    {
     "name": "stdout",
     "output_type": "stream",
     "text": [
      "Epoch 10: train_loss=0.8872, train_acc=0.5497 | val_loss=0.8831, val_acc=0.5537\n"
     ]
    },
    {
     "name": "stderr",
     "output_type": "stream",
     "text": [
      "Train: 100%|██████████| 588/588 [00:11<00:00, 50.29it/s, acc=0.55, loss=0.857] \n",
      "Val: 100%|██████████| 147/147 [00:02<00:00, 62.83it/s, acc=0.55, loss=0.825] \n"
     ]
    },
    {
     "name": "stdout",
     "output_type": "stream",
     "text": [
      "Epoch 11: train_loss=0.8868, train_acc=0.5499 | val_loss=0.8846, val_acc=0.5503\n"
     ]
    },
    {
     "name": "stderr",
     "output_type": "stream",
     "text": [
      "Train: 100%|██████████| 588/588 [00:11<00:00, 49.69it/s, acc=0.55, loss=0.836] \n",
      "Val: 100%|██████████| 147/147 [00:02<00:00, 63.59it/s, acc=0.551, loss=0.817]\n"
     ]
    },
    {
     "name": "stdout",
     "output_type": "stream",
     "text": [
      "Epoch 12: train_loss=0.8857, train_acc=0.5502 | val_loss=0.8848, val_acc=0.5510\n"
     ]
    },
    {
     "name": "stderr",
     "output_type": "stream",
     "text": [
      "Train: 100%|██████████| 588/588 [00:12<00:00, 48.62it/s, acc=0.551, loss=0.871]\n",
      "Val: 100%|██████████| 147/147 [00:03<00:00, 45.15it/s, acc=0.555, loss=0.814]\n"
     ]
    },
    {
     "name": "stdout",
     "output_type": "stream",
     "text": [
      "Epoch 13: train_loss=0.8848, train_acc=0.5510 | val_loss=0.8794, val_acc=0.5549\n"
     ]
    },
    {
     "name": "stderr",
     "output_type": "stream",
     "text": [
      "Train: 100%|██████████| 588/588 [00:20<00:00, 28.64it/s, acc=0.551, loss=0.914]\n",
      "Val: 100%|██████████| 147/147 [00:02<00:00, 63.11it/s, acc=0.554, loss=0.826]\n"
     ]
    },
    {
     "name": "stdout",
     "output_type": "stream",
     "text": [
      "Epoch 14: train_loss=0.8839, train_acc=0.5510 | val_loss=0.8849, val_acc=0.5544\n"
     ]
    },
    {
     "name": "stderr",
     "output_type": "stream",
     "text": [
      "Train: 100%|██████████| 588/588 [00:11<00:00, 49.37it/s, acc=0.551, loss=0.835]\n",
      "Val: 100%|██████████| 147/147 [00:02<00:00, 62.24it/s, acc=0.556, loss=0.81] \n"
     ]
    },
    {
     "name": "stdout",
     "output_type": "stream",
     "text": [
      "Epoch 15: train_loss=0.8839, train_acc=0.5509 | val_loss=0.8795, val_acc=0.5556\n"
     ]
    },
    {
     "name": "stderr",
     "output_type": "stream",
     "text": [
      "Train: 100%|██████████| 588/588 [00:11<00:00, 49.26it/s, acc=0.551, loss=0.887]\n",
      "Val: 100%|██████████| 147/147 [00:02<00:00, 62.87it/s, acc=0.553, loss=0.818]\n"
     ]
    },
    {
     "name": "stdout",
     "output_type": "stream",
     "text": [
      "Epoch 16: train_loss=0.8826, train_acc=0.5510 | val_loss=0.8806, val_acc=0.5535\n"
     ]
    },
    {
     "name": "stderr",
     "output_type": "stream",
     "text": [
      "Train: 100%|██████████| 588/588 [00:14<00:00, 40.01it/s, acc=0.552, loss=0.914]\n",
      "Val: 100%|██████████| 147/147 [00:03<00:00, 39.45it/s, acc=0.556, loss=0.818]\n"
     ]
    },
    {
     "name": "stdout",
     "output_type": "stream",
     "text": [
      "Epoch 17: train_loss=0.8818, train_acc=0.5516 | val_loss=0.8788, val_acc=0.5555\n"
     ]
    },
    {
     "name": "stderr",
     "output_type": "stream",
     "text": [
      "Train: 100%|██████████| 588/588 [00:20<00:00, 28.59it/s, acc=0.551, loss=0.87] \n",
      "Val: 100%|██████████| 147/147 [00:02<00:00, 61.77it/s, acc=0.554, loss=0.812]\n"
     ]
    },
    {
     "name": "stdout",
     "output_type": "stream",
     "text": [
      "Epoch 18: train_loss=0.8817, train_acc=0.5511 | val_loss=0.8777, val_acc=0.5543\n"
     ]
    },
    {
     "name": "stderr",
     "output_type": "stream",
     "text": [
      "Train: 100%|██████████| 588/588 [00:11<00:00, 49.21it/s, acc=0.552, loss=0.892]\n",
      "Val: 100%|██████████| 147/147 [00:02<00:00, 61.59it/s, acc=0.552, loss=0.822]\n"
     ]
    },
    {
     "name": "stdout",
     "output_type": "stream",
     "text": [
      "Epoch 19: train_loss=0.8814, train_acc=0.5524 | val_loss=0.8794, val_acc=0.5523\n"
     ]
    },
    {
     "name": "stderr",
     "output_type": "stream",
     "text": [
      "Train: 100%|██████████| 588/588 [00:12<00:00, 47.87it/s, acc=0.552, loss=0.855]\n",
      "Val: 100%|██████████| 147/147 [00:03<00:00, 44.84it/s, acc=0.557, loss=0.824]\n"
     ]
    },
    {
     "name": "stdout",
     "output_type": "stream",
     "text": [
      "Epoch 20: train_loss=0.8807, train_acc=0.5520 | val_loss=0.8767, val_acc=0.5565\n"
     ]
    },
    {
     "name": "stderr",
     "output_type": "stream",
     "text": [
      "Train: 100%|██████████| 588/588 [00:19<00:00, 29.91it/s, acc=0.552, loss=0.845]\n",
      "Val: 100%|██████████| 147/147 [00:03<00:00, 45.02it/s, acc=0.553, loss=0.826]\n"
     ]
    },
    {
     "name": "stdout",
     "output_type": "stream",
     "text": [
      "Epoch 21: train_loss=0.8804, train_acc=0.5523 | val_loss=0.8812, val_acc=0.5529\n"
     ]
    },
    {
     "name": "stderr",
     "output_type": "stream",
     "text": [
      "Train: 100%|██████████| 588/588 [00:13<00:00, 43.01it/s, acc=0.553, loss=0.918]\n",
      "Val: 100%|██████████| 147/147 [00:02<00:00, 65.41it/s, acc=0.555, loss=0.819]\n"
     ]
    },
    {
     "name": "stdout",
     "output_type": "stream",
     "text": [
      "Epoch 22: train_loss=0.8803, train_acc=0.5526 | val_loss=0.8792, val_acc=0.5545\n"
     ]
    },
    {
     "name": "stderr",
     "output_type": "stream",
     "text": [
      "Train: 100%|██████████| 588/588 [00:12<00:00, 48.51it/s, acc=0.552, loss=0.889]\n",
      "Val: 100%|██████████| 147/147 [00:02<00:00, 63.73it/s, acc=0.556, loss=0.82] \n"
     ]
    },
    {
     "name": "stdout",
     "output_type": "stream",
     "text": [
      "Epoch 23: train_loss=0.8796, train_acc=0.5521 | val_loss=0.8784, val_acc=0.5564\n"
     ]
    },
    {
     "name": "stderr",
     "output_type": "stream",
     "text": [
      "Train: 100%|██████████| 588/588 [00:17<00:00, 32.86it/s, acc=0.553, loss=0.807]\n",
      "Val: 100%|██████████| 147/147 [00:03<00:00, 48.52it/s, acc=0.555, loss=0.819]\n"
     ]
    },
    {
     "name": "stdout",
     "output_type": "stream",
     "text": [
      "Epoch 24: train_loss=0.8793, train_acc=0.5531 | val_loss=0.8771, val_acc=0.5547\n"
     ]
    },
    {
     "name": "stderr",
     "output_type": "stream",
     "text": [
      "Train: 100%|██████████| 588/588 [00:14<00:00, 40.95it/s, acc=0.553, loss=0.868]\n",
      "Val: 100%|██████████| 147/147 [00:02<00:00, 61.53it/s, acc=0.555, loss=0.82] \n"
     ]
    },
    {
     "name": "stdout",
     "output_type": "stream",
     "text": [
      "Epoch 25: train_loss=0.8787, train_acc=0.5526 | val_loss=0.8769, val_acc=0.5546\n"
     ]
    },
    {
     "name": "stderr",
     "output_type": "stream",
     "text": [
      "Train: 100%|██████████| 588/588 [00:12<00:00, 48.96it/s, acc=0.553, loss=0.853]\n",
      "Val: 100%|██████████| 147/147 [00:02<00:00, 60.45it/s, acc=0.556, loss=0.818]\n"
     ]
    },
    {
     "name": "stdout",
     "output_type": "stream",
     "text": [
      "Epoch 26: train_loss=0.8785, train_acc=0.5526 | val_loss=0.8758, val_acc=0.5562\n"
     ]
    },
    {
     "name": "stderr",
     "output_type": "stream",
     "text": [
      "Train: 100%|██████████| 588/588 [00:12<00:00, 48.61it/s, acc=0.553, loss=0.862]\n",
      "Val: 100%|██████████| 147/147 [00:02<00:00, 63.18it/s, acc=0.557, loss=0.828]\n"
     ]
    },
    {
     "name": "stdout",
     "output_type": "stream",
     "text": [
      "Epoch 27: train_loss=0.8784, train_acc=0.5529 | val_loss=0.8799, val_acc=0.5570\n"
     ]
    },
    {
     "name": "stderr",
     "output_type": "stream",
     "text": [
      "Train: 100%|██████████| 588/588 [00:18<00:00, 32.52it/s, acc=0.553, loss=0.894]\n",
      "Val: 100%|██████████| 147/147 [00:02<00:00, 59.86it/s, acc=0.556, loss=0.82] \n"
     ]
    },
    {
     "name": "stdout",
     "output_type": "stream",
     "text": [
      "Epoch 28: train_loss=0.8780, train_acc=0.5528 | val_loss=0.8768, val_acc=0.5564\n"
     ]
    },
    {
     "name": "stderr",
     "output_type": "stream",
     "text": [
      "Train: 100%|██████████| 588/588 [00:11<00:00, 49.03it/s, acc=0.553, loss=0.879]\n",
      "Val: 100%|██████████| 147/147 [00:02<00:00, 63.81it/s, acc=0.555, loss=0.82] \n"
     ]
    },
    {
     "name": "stdout",
     "output_type": "stream",
     "text": [
      "Epoch 29: train_loss=0.8779, train_acc=0.5533 | val_loss=0.8776, val_acc=0.5546\n"
     ]
    },
    {
     "name": "stderr",
     "output_type": "stream",
     "text": [
      "Train: 100%|██████████| 588/588 [00:12<00:00, 48.54it/s, acc=0.553, loss=0.9]  \n",
      "Val: 100%|██████████| 147/147 [00:02<00:00, 61.49it/s, acc=0.555, loss=0.817]\n"
     ]
    },
    {
     "name": "stdout",
     "output_type": "stream",
     "text": [
      "Epoch 30: train_loss=0.8769, train_acc=0.5533 | val_loss=0.8794, val_acc=0.5550\n"
     ]
    },
    {
     "name": "stderr",
     "output_type": "stream",
     "text": [
      "Train: 100%|██████████| 588/588 [00:12<00:00, 48.71it/s, acc=0.553, loss=0.881]\n",
      "Val: 100%|██████████| 147/147 [00:02<00:00, 62.63it/s, acc=0.553, loss=0.818]\n"
     ]
    },
    {
     "name": "stdout",
     "output_type": "stream",
     "text": [
      "Epoch 31: train_loss=0.8768, train_acc=0.5529 | val_loss=0.8769, val_acc=0.5533\n"
     ]
    },
    {
     "name": "stderr",
     "output_type": "stream",
     "text": [
      "Train: 100%|██████████| 588/588 [00:11<00:00, 49.15it/s, acc=0.554, loss=0.854]\n",
      "Val: 100%|██████████| 147/147 [00:02<00:00, 62.72it/s, acc=0.557, loss=0.813]\n"
     ]
    },
    {
     "name": "stdout",
     "output_type": "stream",
     "text": [
      "Epoch 32: train_loss=0.8768, train_acc=0.5543 | val_loss=0.8754, val_acc=0.5571\n"
     ]
    },
    {
     "name": "stderr",
     "output_type": "stream",
     "text": [
      "Train: 100%|██████████| 588/588 [00:11<00:00, 49.45it/s, acc=0.554, loss=0.882]\n",
      "Val: 100%|██████████| 147/147 [00:02<00:00, 64.36it/s, acc=0.557, loss=0.819]\n"
     ]
    },
    {
     "name": "stdout",
     "output_type": "stream",
     "text": [
      "Epoch 33: train_loss=0.8767, train_acc=0.5536 | val_loss=0.8747, val_acc=0.5567\n"
     ]
    },
    {
     "name": "stderr",
     "output_type": "stream",
     "text": [
      "Train: 100%|██████████| 588/588 [00:12<00:00, 48.72it/s, acc=0.554, loss=0.823]\n",
      "Val: 100%|██████████| 147/147 [00:02<00:00, 62.37it/s, acc=0.555, loss=0.819]\n"
     ]
    },
    {
     "name": "stdout",
     "output_type": "stream",
     "text": [
      "Epoch 34: train_loss=0.8761, train_acc=0.5541 | val_loss=0.8761, val_acc=0.5554\n"
     ]
    },
    {
     "name": "stderr",
     "output_type": "stream",
     "text": [
      "Train: 100%|██████████| 588/588 [00:11<00:00, 49.52it/s, acc=0.554, loss=0.867]\n",
      "Val: 100%|██████████| 147/147 [00:02<00:00, 61.78it/s, acc=0.558, loss=0.819]\n"
     ]
    },
    {
     "name": "stdout",
     "output_type": "stream",
     "text": [
      "Epoch 35: train_loss=0.8758, train_acc=0.5539 | val_loss=0.8757, val_acc=0.5581\n"
     ]
    },
    {
     "name": "stderr",
     "output_type": "stream",
     "text": [
      "Train: 100%|██████████| 588/588 [00:16<00:00, 36.70it/s, acc=0.554, loss=0.88] \n",
      "Val: 100%|██████████| 147/147 [00:03<00:00, 45.25it/s, acc=0.557, loss=0.825]\n"
     ]
    },
    {
     "name": "stdout",
     "output_type": "stream",
     "text": [
      "Epoch 36: train_loss=0.8760, train_acc=0.5543 | val_loss=0.8754, val_acc=0.5565\n"
     ]
    },
    {
     "name": "stderr",
     "output_type": "stream",
     "text": [
      "Train: 100%|██████████| 588/588 [00:12<00:00, 46.17it/s, acc=0.554, loss=0.8]  \n",
      "Val: 100%|██████████| 147/147 [00:02<00:00, 61.80it/s, acc=0.556, loss=0.819]\n"
     ]
    },
    {
     "name": "stdout",
     "output_type": "stream",
     "text": [
      "Epoch 37: train_loss=0.8759, train_acc=0.5536 | val_loss=0.8753, val_acc=0.5560\n"
     ]
    },
    {
     "name": "stderr",
     "output_type": "stream",
     "text": [
      "Train: 100%|██████████| 588/588 [00:12<00:00, 48.92it/s, acc=0.554, loss=0.886]\n",
      "Val: 100%|██████████| 147/147 [00:02<00:00, 61.43it/s, acc=0.556, loss=0.828]\n"
     ]
    },
    {
     "name": "stdout",
     "output_type": "stream",
     "text": [
      "Epoch 38: train_loss=0.8755, train_acc=0.5543 | val_loss=0.8783, val_acc=0.5555\n"
     ]
    },
    {
     "name": "stderr",
     "output_type": "stream",
     "text": [
      "Train: 100%|██████████| 588/588 [00:11<00:00, 49.05it/s, acc=0.554, loss=0.881]\n",
      "Val: 100%|██████████| 147/147 [00:02<00:00, 62.70it/s, acc=0.557, loss=0.833]\n"
     ]
    },
    {
     "name": "stdout",
     "output_type": "stream",
     "text": [
      "Epoch 39: train_loss=0.8755, train_acc=0.5542 | val_loss=0.8783, val_acc=0.5573\n"
     ]
    },
    {
     "name": "stderr",
     "output_type": "stream",
     "text": [
      "Train: 100%|██████████| 588/588 [00:14<00:00, 41.22it/s, acc=0.555, loss=0.862]\n",
      "Val: 100%|██████████| 147/147 [00:03<00:00, 44.43it/s, acc=0.553, loss=0.825]\n"
     ]
    },
    {
     "name": "stdout",
     "output_type": "stream",
     "text": [
      "Epoch 40: train_loss=0.8752, train_acc=0.5549 | val_loss=0.8777, val_acc=0.5527\n"
     ]
    },
    {
     "name": "stderr",
     "output_type": "stream",
     "text": [
      "Train: 100%|██████████| 588/588 [00:13<00:00, 42.79it/s, acc=0.554, loss=0.912]\n",
      "Val: 100%|██████████| 147/147 [00:02<00:00, 62.75it/s, acc=0.556, loss=0.821]\n"
     ]
    },
    {
     "name": "stdout",
     "output_type": "stream",
     "text": [
      "Epoch 41: train_loss=0.8754, train_acc=0.5540 | val_loss=0.8754, val_acc=0.5559\n"
     ]
    },
    {
     "name": "stderr",
     "output_type": "stream",
     "text": [
      "Train: 100%|██████████| 588/588 [00:12<00:00, 48.87it/s, acc=0.555, loss=0.888]\n",
      "Val: 100%|██████████| 147/147 [00:02<00:00, 63.55it/s, acc=0.556, loss=0.821]\n"
     ]
    },
    {
     "name": "stdout",
     "output_type": "stream",
     "text": [
      "Epoch 42: train_loss=0.8750, train_acc=0.5547 | val_loss=0.8743, val_acc=0.5555\n"
     ]
    },
    {
     "name": "stderr",
     "output_type": "stream",
     "text": [
      "Train: 100%|██████████| 588/588 [00:11<00:00, 49.57it/s, acc=0.555, loss=0.872]\n",
      "Val: 100%|██████████| 147/147 [00:02<00:00, 61.22it/s, acc=0.557, loss=0.827]\n"
     ]
    },
    {
     "name": "stdout",
     "output_type": "stream",
     "text": [
      "Epoch 43: train_loss=0.8749, train_acc=0.5551 | val_loss=0.8735, val_acc=0.5570\n"
     ]
    },
    {
     "name": "stderr",
     "output_type": "stream",
     "text": [
      "Train: 100%|██████████| 588/588 [00:12<00:00, 48.31it/s, acc=0.555, loss=0.884]\n",
      "Val: 100%|██████████| 147/147 [00:02<00:00, 61.81it/s, acc=0.558, loss=0.813]\n"
     ]
    },
    {
     "name": "stdout",
     "output_type": "stream",
     "text": [
      "Epoch 44: train_loss=0.8741, train_acc=0.5552 | val_loss=0.8733, val_acc=0.5576\n"
     ]
    },
    {
     "name": "stderr",
     "output_type": "stream",
     "text": [
      "Train: 100%|██████████| 588/588 [00:12<00:00, 48.78it/s, acc=0.555, loss=0.84] \n",
      "Val: 100%|██████████| 147/147 [00:02<00:00, 63.01it/s, acc=0.554, loss=0.827]\n"
     ]
    },
    {
     "name": "stdout",
     "output_type": "stream",
     "text": [
      "Epoch 45: train_loss=0.8745, train_acc=0.5548 | val_loss=0.8739, val_acc=0.5538\n"
     ]
    },
    {
     "name": "stderr",
     "output_type": "stream",
     "text": [
      "Train: 100%|██████████| 588/588 [00:11<00:00, 49.45it/s, acc=0.555, loss=0.888]\n",
      "Val: 100%|██████████| 147/147 [00:02<00:00, 68.97it/s, acc=0.557, loss=0.824]\n"
     ]
    },
    {
     "name": "stdout",
     "output_type": "stream",
     "text": [
      "Epoch 46: train_loss=0.8740, train_acc=0.5553 | val_loss=0.8738, val_acc=0.5565\n"
     ]
    },
    {
     "name": "stderr",
     "output_type": "stream",
     "text": [
      "Train: 100%|██████████| 588/588 [00:11<00:00, 49.13it/s, acc=0.555, loss=0.851]\n",
      "Val: 100%|██████████| 147/147 [00:02<00:00, 61.04it/s, acc=0.557, loss=0.825]\n"
     ]
    },
    {
     "name": "stdout",
     "output_type": "stream",
     "text": [
      "Epoch 47: train_loss=0.8732, train_acc=0.5554 | val_loss=0.8809, val_acc=0.5565\n"
     ]
    },
    {
     "name": "stderr",
     "output_type": "stream",
     "text": [
      "Train: 100%|██████████| 588/588 [00:11<00:00, 49.32it/s, acc=0.556, loss=0.888]\n",
      "Val: 100%|██████████| 147/147 [00:02<00:00, 52.03it/s, acc=0.554, loss=0.836]\n"
     ]
    },
    {
     "name": "stdout",
     "output_type": "stream",
     "text": [
      "Epoch 48: train_loss=0.8738, train_acc=0.5557 | val_loss=0.8800, val_acc=0.5536\n"
     ]
    },
    {
     "name": "stderr",
     "output_type": "stream",
     "text": [
      "Train: 100%|██████████| 588/588 [00:19<00:00, 30.75it/s, acc=0.555, loss=0.87] \n",
      "Val: 100%|██████████| 147/147 [00:03<00:00, 44.23it/s, acc=0.558, loss=0.824]\n"
     ]
    },
    {
     "name": "stdout",
     "output_type": "stream",
     "text": [
      "Epoch 49: train_loss=0.8737, train_acc=0.5549 | val_loss=0.8736, val_acc=0.5578\n"
     ]
    },
    {
     "name": "stderr",
     "output_type": "stream",
     "text": [
      "Train: 100%|██████████| 588/588 [00:15<00:00, 38.52it/s, acc=0.555, loss=0.863]\n",
      "Val: 100%|██████████| 147/147 [00:02<00:00, 62.75it/s, acc=0.556, loss=0.827]\n",
      "\u001b[34m\u001b[1mwandb\u001b[0m: \u001b[32m\u001b[41mERROR\u001b[0m The nbformat package was not found. It is required to save notebook history.\n"
     ]
    },
    {
     "name": "stdout",
     "output_type": "stream",
     "text": [
      "Epoch 50: train_loss=0.8737, train_acc=0.5547 | val_loss=0.8795, val_acc=0.5557\n"
     ]
    },
    {
     "data": {
      "text/html": [],
      "text/plain": [
       "<IPython.core.display.HTML object>"
      ]
     },
     "metadata": {},
     "output_type": "display_data"
    },
    {
     "data": {
      "text/html": [
       "<br>    <style><br>        .wandb-row {<br>            display: flex;<br>            flex-direction: row;<br>            flex-wrap: wrap;<br>            justify-content: flex-start;<br>            width: 100%;<br>        }<br>        .wandb-col {<br>            display: flex;<br>            flex-direction: column;<br>            flex-basis: 100%;<br>            flex: 1;<br>            padding: 10px;<br>        }<br>    </style><br><div class=\"wandb-row\"><div class=\"wandb-col\"><h3>Run history:</h3><br/><table class=\"wandb\"><tr><td>epoch</td><td>▁▁▁▁▂▂▂▂▂▂▃▃▃▃▃▄▄▄▄▄▅▅▅▅▅▅▆▆▆▆▆▇▇▇▇▇▇███</td></tr><tr><td>train_accuracy</td><td>▁▄▅▆▆▇▇▇▇▇▇▇▇▇▇▇▇▇▇▇▇▇▇▇█▇██████████████</td></tr><tr><td>train_loss</td><td>█▅▄▃▃▃▂▂▂▂▂▂▂▂▂▂▂▂▂▂▁▁▁▁▁▁▁▁▁▁▁▁▁▁▁▁▁▁▁▁</td></tr><tr><td>val_accuracy</td><td>▁▅▅▆▆▇▆▆▇▆▇▇▇▇▇▆█▇▇█▇██▇▇█▇██▇█▇▇▇█▇██▇▇</td></tr><tr><td>val_loss</td><td>█▄▃▄▃▂▂▂▂▂▂▂▂▂▁▁▂▂▂▁▁▂▁▁▂▁▁▁▁▁▂▂▁▁▁▁▁▂▂▂</td></tr></table><br/></div><div class=\"wandb-col\"><h3>Run summary:</h3><br/><table class=\"wandb\"><tr><td>epoch</td><td>50</td></tr><tr><td>train_accuracy</td><td>0.55472</td></tr><tr><td>train_loss</td><td>0.87366</td></tr><tr><td>val_accuracy</td><td>0.55569</td></tr><tr><td>val_loss</td><td>0.87949</td></tr></table><br/></div></div>"
      ],
      "text/plain": [
       "<IPython.core.display.HTML object>"
      ]
     },
     "metadata": {},
     "output_type": "display_data"
    },
    {
     "data": {
      "text/html": [
       " View run <strong style=\"color:#cdcd00\">informer</strong> at: <a href='https://wandb.ai/junta/churn/runs/osc5ic6h' target=\"_blank\">https://wandb.ai/junta/churn/runs/osc5ic6h</a><br> View project at: <a href='https://wandb.ai/junta/churn' target=\"_blank\">https://wandb.ai/junta/churn</a><br>Synced 5 W&B file(s), 0 media file(s), 0 artifact file(s) and 0 other file(s)"
      ],
      "text/plain": [
       "<IPython.core.display.HTML object>"
      ]
     },
     "metadata": {},
     "output_type": "display_data"
    },
    {
     "data": {
      "text/html": [
       "Find logs at: <code>./wandb/run-20250531_173922-osc5ic6h/logs</code>"
      ],
      "text/plain": [
       "<IPython.core.display.HTML object>"
      ]
     },
     "metadata": {},
     "output_type": "display_data"
    }
   ],
   "source": [
    "import wandb\n",
    "\n",
    "num_epochs = 50\n",
    "\n",
    "wandb.init(project=\"churn\", name=\"informer\")\n",
    "\n",
    "\n",
    "# 6. Training & Evaluation\n",
    "def train_epoch(model, loader, criterion, optimizer):\n",
    "    model.train()\n",
    "    total_loss, correct, total = 0, 0, 0\n",
    "    loop = tqdm(loader, desc=\"Train\")\n",
    "    for seqs, lengths, attn_mask, labels in loop:\n",
    "        optimizer.zero_grad()\n",
    "        outputs = model(seqs, lengths, attn_mask)  # <-- add attn_mask here\n",
    "        loss = criterion(outputs, labels)\n",
    "        loss.backward()\n",
    "        optimizer.step()\n",
    "        total_loss += loss.item() * labels.size(0)\n",
    "        preds = outputs.argmax(dim=1)\n",
    "        correct += (preds == labels).sum().item()\n",
    "        total += labels.size(0)\n",
    "        loop.set_postfix(loss=loss.item(), acc=correct / total)\n",
    "    return total_loss / total, correct / total\n",
    "\n",
    "\n",
    "def eval_epoch(model, loader, criterion):\n",
    "    model.eval()\n",
    "    total_loss, correct, total = 0, 0, 0\n",
    "    loop = tqdm(loader, desc=\"Val\")\n",
    "    with torch.no_grad():\n",
    "        for seqs, lengths, attn_mask, labels in loop:\n",
    "            outputs = model(seqs, lengths, attn_mask)  # <-- add attn_mask here\n",
    "            loss = criterion(outputs, labels)\n",
    "            total_loss += loss.item() * labels.size(0)\n",
    "            preds = outputs.argmax(dim=1)\n",
    "            correct += (preds == labels).sum().item()\n",
    "            total += labels.size(0)\n",
    "            loop.set_postfix(loss=loss.item(), acc=correct / total)\n",
    "    return total_loss / total, correct / total\n",
    "\n",
    "\n",
    "# Run training\n",
    "for epoch in range(1, num_epochs + 1):\n",
    "    train_loss, train_acc = train_epoch(model, train_loader, criterion, optimizer)\n",
    "    val_loss, val_acc = eval_epoch(model, val_loader, criterion)\n",
    "    print(\n",
    "        f\"Epoch {epoch:>2d}: train_loss={train_loss:.4f}, train_acc={train_acc:.4f} | val_loss={val_loss:.4f}, val_acc={val_acc:.4f}\"\n",
    "    )\n",
    "\n",
    "    # Log to wandb\n",
    "    wandb.log(\n",
    "        {\n",
    "            \"epoch\": epoch,\n",
    "            \"train_loss\": train_loss,\n",
    "            \"train_accuracy\": train_acc,\n",
    "            \"val_loss\": val_loss,\n",
    "            \"val_accuracy\": val_acc,\n",
    "        }\n",
    "    )\n",
    "\n",
    "wandb.finish()"
   ]
  },
  {
   "cell_type": "code",
   "execution_count": 6,
   "id": "ecd15998",
   "metadata": {},
   "outputs": [
    {
     "name": "stderr",
     "output_type": "stream",
     "text": [
      "Collecting predictions: 100%|██████████| 147/147 [00:02<00:00, 63.27it/s]\n"
     ]
    },
    {
     "name": "stdout",
     "output_type": "stream",
     "text": [
      "ROC AUC Score (OvR): 0.7433\n",
      "\n",
      "Classification Report:\n",
      "               precision    recall  f1-score   support\n",
      "\n",
      "           0       0.47      0.77      0.58     21127\n",
      "           1       0.68      0.59      0.63     34706\n",
      "           2       0.48      0.26      0.34     19394\n",
      "\n",
      "    accuracy                           0.56     75227\n",
      "   macro avg       0.54      0.54      0.52     75227\n",
      "weighted avg       0.57      0.56      0.54     75227\n",
      "\n"
     ]
    },
    {
     "data": {
      "image/png": "[encoded data removed]",
      "text/plain": [
       "<Figure size 800x600 with 2 Axes>"
      ]
     },
     "metadata": {},
     "output_type": "display_data"
    }
   ],
   "source": [
    "from sklearn.metrics import roc_auc_score, classification_report, confusion_matrix\n",
    "import seaborn as sns\n",
    "import matplotlib.pyplot as plt\n",
    "import numpy as np\n",
    "\n",
    "# 1. Collect all true labels and predicted probabilities\n",
    "model.eval()\n",
    "all_labels = []\n",
    "all_preds = []\n",
    "all_probs = []\n",
    "\n",
    "with torch.no_grad():\n",
    "    for seqs, lengths, attn_mask, labels in tqdm(\n",
    "        val_loader, desc=\"Collecting predictions\"\n",
    "    ):\n",
    "        outputs = model(seqs, lengths, attn_mask)  # <-- add attn_mask here\n",
    "        probs = torch.softmax(outputs, dim=1)\n",
    "        preds = outputs.argmax(dim=1)\n",
    "\n",
    "        all_labels.append(labels.cpu().numpy())\n",
    "        all_preds.append(preds.cpu().numpy())\n",
    "        all_probs.append(probs.cpu().numpy())\n",
    "\n",
    "all_labels = np.concatenate(all_labels)\n",
    "all_preds = np.concatenate(all_preds)\n",
    "all_probs = np.concatenate(all_probs)\n",
    "\n",
    "# 2. ROC AUC Score (one-vs-rest for multiclass)\n",
    "roc_auc = roc_auc_score(all_labels, all_probs, multi_class=\"ovr\")\n",
    "print(f\"ROC AUC Score (OvR): {roc_auc:.4f}\")\n",
    "\n",
    "# 3. Classification Report\n",
    "report = classification_report(all_labels, all_preds)\n",
    "print(\"\\nClassification Report:\\n\", report)\n",
    "\n",
    "# 4. Confusion Matrix\n",
    "cm = confusion_matrix(all_labels, all_preds)\n",
    "plt.figure(figsize=(8, 6))\n",
    "sns.heatmap(cm, annot=True, fmt=\"d\", cmap=\"Blues\")\n",
    "plt.title(\"Confusion Matrix Heatmap\")\n",
    "plt.xlabel(\"Predicted Labels\")\n",
    "plt.ylabel(\"True Labels\")\n",
    "plt.show()"
   ]
  }
 ],
 "metadata": {
  "kernelspec": {
   "display_name": ".venv",
   "language": "python",
   "name": "python3"
  },
  "language_info": {
   "codemirror_mode": {
    "name": "ipython",
    "version": 3
   },
   "file_extension": ".py",
   "mimetype": "text/x-python",
   "name": "python",
   "nbconvert_exporter": "python",
   "pygments_lexer": "ipython3",
   "version": "3.13.3"
  }
 },
 "nbformat": 4,
 "nbformat_minor": 5
}
