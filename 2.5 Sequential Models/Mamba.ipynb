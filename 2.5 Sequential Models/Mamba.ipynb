{
 "cells": [
  {
   "cell_type": "code",
   "execution_count": null,
   "id": "40bc7a97",
   "metadata": {},
   "outputs": [],
   "source": [
    "import torch\n",
    "from torch import nn\n",
    "from torch.utils.data import Dataset, DataLoader\n",
    "from torch.nn.utils.rnn import pad_sequence, pack_padded_sequence\n",
    "from tqdm import tqdm\n",
    "from mamba_ssm import Mamba\n"
   ]
  },
  {
   "cell_type": "code",
   "execution_count": null,
   "id": "d3979f23",
   "metadata": {},
   "outputs": [],
   "source": [
    "device = torch.device(\"cuda\" if torch.cuda.is_available() else \"cpu\")\n",
    "\n",
    "# Feature columns\n",
    "feature_cols = [\n",
    "    \"year\",\n",
    "    \"membership_year\",\n",
    "    \"is_household\",\n",
    "    \"vehicle_count\",\n",
    "    \"vehicle_age_mean\",\n",
    "    \"beløp\",\n",
    "    \"gave_feedback\",\n",
    "    \"mean_feedback\",\n",
    "    \"age\",\n",
    "    \"gender\",\n",
    "    \"sentralitetsindex\",\n",
    "]\n",
    "\n",
    "# Load the examples\n",
    "train_examples = torch.load(\"all/train_examples.pt\")\n",
    "val_examples = torch.load(\"all/val_examples.pt\")"
   ]
  },
  {
   "cell_type": "code",
   "execution_count": null,
   "id": "4957cd5c",
   "metadata": {},
   "outputs": [],
   "source": [
    "# 4. Dataset & DataLoader\n",
    "class ChurnDataset(Dataset):\n",
    "    def __init__(self, examples):\n",
    "        self.examples = examples\n",
    "\n",
    "    def __len__(self):\n",
    "        return len(self.examples)\n",
    "\n",
    "    def __getitem__(self, idx):\n",
    "        seq, length, label = self.examples[idx]\n",
    "        return seq, length, label\n",
    "\n",
    "\n",
    "def collate_fn(batch):\n",
    "    seqs, lengths, labels = zip(*batch)\n",
    "    # pad to the max seq‐len in the batch\n",
    "    seqs_padded = pad_sequence(seqs, batch_first=True)  # [B, T, F]\n",
    "    lengths = torch.tensor(lengths, dtype=torch.long)  # [B]\n",
    "    labels = torch.tensor(labels, dtype=torch.long)  # [B]\n",
    "    # build an attention mask: True == padding\n",
    "    max_len = seqs_padded.size(1)\n",
    "    # shape [B, T]: for each example, positions >= length are padding\n",
    "    attn_mask = torch.arange(max_len, device=lengths.device).unsqueeze(0).expand(\n",
    "        len(lengths), -1\n",
    "    ) >= lengths.unsqueeze(1)\n",
    "    return (\n",
    "        seqs_padded.to(device),\n",
    "        lengths.to(device),\n",
    "        attn_mask.to(device),\n",
    "        labels.to(device),\n",
    "    )\n",
    "\n",
    "\n",
    "train_ds = ChurnDataset(train_examples)\n",
    "val_ds = ChurnDataset(val_examples)\n",
    "train_loader = DataLoader(train_ds, batch_size=32, shuffle=True, collate_fn=collate_fn)\n",
    "val_loader = DataLoader(val_ds, batch_size=32, shuffle=False, collate_fn=collate_fn)"
   ]
  },
  {
   "cell_type": "code",
   "execution_count": null,
   "id": "45d80f5b",
   "metadata": {},
   "outputs": [
    {
     "name": "stderr",
     "output_type": "stream",
     "text": [
      "/root/nielsen/informer-test/.venv/lib/python3.13/site-packages/torch/nn/modules/transformer.py:382: UserWarning: enable_nested_tensor is True, but self.use_nested_tensor is False because encoder_layer.norm_first was True\n",
      "  warnings.warn(\n"
     ]
    }
   ],
   "source": [
    "# 5. Model\n",
    "torch.manual_seed(42)\n",
    "\n",
    "\n",
    "class MambaClassifier(nn.Module):\n",
    "    def __init__(self, input_size, d_model, n_layers, num_classes):\n",
    "        super().__init__()\n",
    "        self.embedding = nn.Linear(input_size, d_model)\n",
    "\n",
    "        # Stack of Mamba layers\n",
    "        self.mamba_blocks = nn.ModuleList(\n",
    "            [\n",
    "                Mamba(\n",
    "                    d_model=d_model,\n",
    "                    d_state=16,  # usually 1/4th of d_model\n",
    "                    d_conv=4,  # convolution kernel size\n",
    "                    expand_factor=2,  # internal expansion\n",
    "                )\n",
    "                for _ in range(n_layers)\n",
    "            ]\n",
    "        )\n",
    "\n",
    "        self.fc = nn.Linear(d_model, num_classes)\n",
    "\n",
    "    def forward(self, x, lengths, attn_mask):\n",
    "        x = self.embedding(x)  # [B, T, d_model]\n",
    "\n",
    "        for layer in self.mamba_blocks:\n",
    "            x = layer(x)  # [B, T, d_model]\n",
    "\n",
    "        # Use the last valid (non-padding) token\n",
    "        batch_size = x.size(0)\n",
    "        last_valid_indices = lengths - 1\n",
    "        last_token_repr = x[torch.arange(batch_size), last_valid_indices]\n",
    "\n",
    "        out = self.fc(last_token_repr)\n",
    "        return out\n",
    "\n",
    "\n",
    "# Instantiate model\n",
    "input_size = len(feature_cols)\n",
    "d_model = 64  # Internal hidden size\n",
    "n_layers = 2  # How many Mamba layers\n",
    "num_classes = 3  # Your churn horizon classes: 0/1/2\n",
    "\n",
    "model = MambaClassifier(input_size, d_model, n_layers, num_classes).to(device)\n",
    "\n",
    "\n",
    "# Loss & optimizer\n",
    "criterion = nn.CrossEntropyLoss()\n",
    "optimizer = torch.optim.Adam(model.parameters(), lr=1e-3)"
   ]
  },
  {
   "cell_type": "code",
   "execution_count": null,
   "id": "db2ce0ff",
   "metadata": {},
   "outputs": [
    {
     "name": "stderr",
     "output_type": "stream",
     "text": [
      "Train: 100%|██████████| 9404/9404 [01:00<00:00, 155.10it/s, acc=0.519, loss=0.889]\n",
      "Val: 100%|██████████| 2351/2351 [00:05<00:00, 461.77it/s, acc=0.518, loss=0.86] \n"
     ]
    },
    {
     "name": "stdout",
     "output_type": "stream",
     "text": [
      "Epoch  1: train_loss=0.9357, train_acc=0.5189 | val_loss=0.9225, val_acc=0.5185\n"
     ]
    },
    {
     "name": "stderr",
     "output_type": "stream",
     "text": [
      "Train: 100%|██████████| 9404/9404 [01:00<00:00, 154.64it/s, acc=0.534, loss=0.781]\n",
      "Val: 100%|██████████| 2351/2351 [00:05<00:00, 460.16it/s, acc=0.542, loss=0.837]\n"
     ]
    },
    {
     "name": "stdout",
     "output_type": "stream",
     "text": [
      "Epoch  2: train_loss=0.9128, train_acc=0.5336 | val_loss=0.9014, val_acc=0.5419\n"
     ]
    },
    {
     "name": "stderr",
     "output_type": "stream",
     "text": [
      "Train: 100%|██████████| 9404/9404 [00:54<00:00, 171.30it/s, acc=0.537, loss=1.03] \n",
      "Val: 100%|██████████| 2351/2351 [00:03<00:00, 677.18it/s, acc=0.543, loss=0.806]\n"
     ]
    },
    {
     "name": "stdout",
     "output_type": "stream",
     "text": [
      "Epoch  3: train_loss=0.9057, train_acc=0.5375 | val_loss=0.9000, val_acc=0.5428\n"
     ]
    },
    {
     "name": "stderr",
     "output_type": "stream",
     "text": [
      "Train: 100%|██████████| 9404/9404 [00:51<00:00, 182.62it/s, acc=0.54, loss=0.893] \n",
      "Val: 100%|██████████| 2351/2351 [00:03<00:00, 602.42it/s, acc=0.542, loss=0.835]\n"
     ]
    },
    {
     "name": "stdout",
     "output_type": "stream",
     "text": [
      "Epoch  4: train_loss=0.9025, train_acc=0.5397 | val_loss=0.8991, val_acc=0.5423\n"
     ]
    },
    {
     "name": "stderr",
     "output_type": "stream",
     "text": [
      "Train: 100%|██████████| 9404/9404 [01:07<00:00, 140.13it/s, acc=0.541, loss=0.836]\n",
      "Val: 100%|██████████| 2351/2351 [00:05<00:00, 468.87it/s, acc=0.539, loss=0.829]\n"
     ]
    },
    {
     "name": "stdout",
     "output_type": "stream",
     "text": [
      "Epoch  5: train_loss=0.9000, train_acc=0.5415 | val_loss=0.9013, val_acc=0.5394\n"
     ]
    },
    {
     "name": "stderr",
     "output_type": "stream",
     "text": [
      "Train: 100%|██████████| 9404/9404 [01:01<00:00, 152.33it/s, acc=0.542, loss=0.767]\n",
      "Val: 100%|██████████| 2351/2351 [00:06<00:00, 377.20it/s, acc=0.545, loss=0.788]\n"
     ]
    },
    {
     "name": "stdout",
     "output_type": "stream",
     "text": [
      "Epoch  6: train_loss=0.8979, train_acc=0.5418 | val_loss=0.8927, val_acc=0.5455\n"
     ]
    },
    {
     "name": "stderr",
     "output_type": "stream",
     "text": [
      "Train: 100%|██████████| 9404/9404 [01:04<00:00, 146.59it/s, acc=0.543, loss=0.884]\n",
      "Val: 100%|██████████| 2351/2351 [00:05<00:00, 397.62it/s, acc=0.544, loss=0.837]\n"
     ]
    },
    {
     "name": "stdout",
     "output_type": "stream",
     "text": [
      "Epoch  7: train_loss=0.8967, train_acc=0.5431 | val_loss=0.8916, val_acc=0.5442\n"
     ]
    },
    {
     "name": "stderr",
     "output_type": "stream",
     "text": [
      "Train: 100%|██████████| 9404/9404 [00:59<00:00, 157.97it/s, acc=0.543, loss=0.975]\n",
      "Val: 100%|██████████| 2351/2351 [00:20<00:00, 116.38it/s, acc=0.543, loss=0.828]\n"
     ]
    },
    {
     "name": "stdout",
     "output_type": "stream",
     "text": [
      "Epoch  8: train_loss=0.8959, train_acc=0.5434 | val_loss=0.8936, val_acc=0.5431\n"
     ]
    },
    {
     "name": "stderr",
     "output_type": "stream",
     "text": [
      "Train: 100%|██████████| 9404/9404 [00:47<00:00, 199.34it/s, acc=0.544, loss=0.748]\n",
      "Val: 100%|██████████| 2351/2351 [00:05<00:00, 443.45it/s, acc=0.544, loss=0.792]\n"
     ]
    },
    {
     "name": "stdout",
     "output_type": "stream",
     "text": [
      "Epoch  9: train_loss=0.8946, train_acc=0.5441 | val_loss=0.8920, val_acc=0.5438\n"
     ]
    },
    {
     "name": "stderr",
     "output_type": "stream",
     "text": [
      "Train: 100%|██████████| 9404/9404 [00:53<00:00, 176.32it/s, acc=0.544, loss=0.76] \n",
      "Val: 100%|██████████| 2351/2351 [00:05<00:00, 404.19it/s, acc=0.545, loss=0.803]\n"
     ]
    },
    {
     "name": "stdout",
     "output_type": "stream",
     "text": [
      "Epoch 10: train_loss=0.8942, train_acc=0.5443 | val_loss=0.8930, val_acc=0.5445\n"
     ]
    },
    {
     "name": "stderr",
     "output_type": "stream",
     "text": [
      "Train: 100%|██████████| 9404/9404 [00:51<00:00, 183.93it/s, acc=0.544, loss=0.879]\n",
      "Val: 100%|██████████| 2351/2351 [00:05<00:00, 392.32it/s, acc=0.545, loss=0.813]\n"
     ]
    },
    {
     "name": "stdout",
     "output_type": "stream",
     "text": [
      "Epoch 11: train_loss=0.8936, train_acc=0.5443 | val_loss=0.8953, val_acc=0.5455\n"
     ]
    },
    {
     "name": "stderr",
     "output_type": "stream",
     "text": [
      "Train: 100%|██████████| 9404/9404 [01:09<00:00, 134.64it/s, acc=0.545, loss=0.998]\n",
      "Val: 100%|██████████| 2351/2351 [00:06<00:00, 385.66it/s, acc=0.549, loss=0.789]\n"
     ]
    },
    {
     "name": "stdout",
     "output_type": "stream",
     "text": [
      "Epoch 12: train_loss=0.8931, train_acc=0.5452 | val_loss=0.8869, val_acc=0.5492\n"
     ]
    },
    {
     "name": "stderr",
     "output_type": "stream",
     "text": [
      "Train: 100%|██████████| 9404/9404 [00:46<00:00, 202.67it/s, acc=0.546, loss=0.855]\n",
      "Val: 100%|██████████| 2351/2351 [00:05<00:00, 405.46it/s, acc=0.549, loss=0.833]\n"
     ]
    },
    {
     "name": "stdout",
     "output_type": "stream",
     "text": [
      "Epoch 13: train_loss=0.8923, train_acc=0.5456 | val_loss=0.8896, val_acc=0.5486\n"
     ]
    },
    {
     "name": "stderr",
     "output_type": "stream",
     "text": [
      "Train: 100%|██████████| 9404/9404 [00:56<00:00, 167.71it/s, acc=0.546, loss=1.01] \n",
      "Val: 100%|██████████| 2351/2351 [00:04<00:00, 478.38it/s, acc=0.549, loss=0.827]\n"
     ]
    },
    {
     "name": "stdout",
     "output_type": "stream",
     "text": [
      "Epoch 14: train_loss=0.8918, train_acc=0.5461 | val_loss=0.8899, val_acc=0.5489\n"
     ]
    },
    {
     "name": "stderr",
     "output_type": "stream",
     "text": [
      "Train: 100%|██████████| 9404/9404 [00:52<00:00, 179.42it/s, acc=0.545, loss=0.916]\n",
      "Val: 100%|██████████| 2351/2351 [00:03<00:00, 757.69it/s, acc=0.542, loss=0.846]\n"
     ]
    },
    {
     "name": "stdout",
     "output_type": "stream",
     "text": [
      "Epoch 15: train_loss=0.8914, train_acc=0.5453 | val_loss=0.8984, val_acc=0.5421\n"
     ]
    },
    {
     "name": "stderr",
     "output_type": "stream",
     "text": [
      "Train: 100%|██████████| 9404/9404 [00:48<00:00, 192.60it/s, acc=0.546, loss=0.934]\n",
      "Val: 100%|██████████| 2351/2351 [00:03<00:00, 717.11it/s, acc=0.543, loss=0.804]\n"
     ]
    },
    {
     "name": "stdout",
     "output_type": "stream",
     "text": [
      "Epoch 16: train_loss=0.8908, train_acc=0.5463 | val_loss=0.9007, val_acc=0.5431\n"
     ]
    },
    {
     "name": "stderr",
     "output_type": "stream",
     "text": [
      "Train: 100%|██████████| 9404/9404 [00:47<00:00, 198.52it/s, acc=0.547, loss=1.15] \n",
      "Val: 100%|██████████| 2351/2351 [00:03<00:00, 599.00it/s, acc=0.543, loss=0.8]  \n"
     ]
    },
    {
     "name": "stdout",
     "output_type": "stream",
     "text": [
      "Epoch 17: train_loss=0.8900, train_acc=0.5470 | val_loss=0.8960, val_acc=0.5428\n"
     ]
    },
    {
     "name": "stderr",
     "output_type": "stream",
     "text": [
      "Train: 100%|██████████| 9404/9404 [00:51<00:00, 180.94it/s, acc=0.546, loss=0.94] \n",
      "Val: 100%|██████████| 2351/2351 [00:13<00:00, 168.22it/s, acc=0.549, loss=0.806] \n"
     ]
    },
    {
     "name": "stdout",
     "output_type": "stream",
     "text": [
      "Epoch 18: train_loss=0.8900, train_acc=0.5459 | val_loss=0.8853, val_acc=0.5492\n"
     ]
    },
    {
     "name": "stderr",
     "output_type": "stream",
     "text": [
      "Train: 100%|██████████| 9404/9404 [00:36<00:00, 254.76it/s, acc=0.546, loss=0.952]\n",
      "Val: 100%|██████████| 2351/2351 [00:02<00:00, 1090.56it/s, acc=0.538, loss=0.809]\n"
     ]
    },
    {
     "name": "stdout",
     "output_type": "stream",
     "text": [
      "Epoch 19: train_loss=0.8895, train_acc=0.5464 | val_loss=0.8933, val_acc=0.5380\n"
     ]
    },
    {
     "name": "stderr",
     "output_type": "stream",
     "text": [
      "Train: 100%|██████████| 9404/9404 [00:26<00:00, 355.37it/s, acc=0.546, loss=1.54] \n",
      "Val: 100%|██████████| 2351/2351 [00:02<00:00, 1078.15it/s, acc=0.546, loss=0.843]\n"
     ]
    },
    {
     "name": "stdout",
     "output_type": "stream",
     "text": [
      "Epoch 20: train_loss=0.8896, train_acc=0.5461 | val_loss=0.8939, val_acc=0.5457\n"
     ]
    }
   ],
   "source": [
    "import wandb\n",
    "\n",
    "num_epochs = 50\n",
    "\n",
    "wandb.init(project=\"churn\", name=\"lstm\")\n",
    "\n",
    "# 6. Training & Evaluation\n",
    "def train_epoch(model, loader, criterion, optimizer):\n",
    "    model.train()\n",
    "    total_loss, correct, total = 0, 0, 0\n",
    "    loop = tqdm(loader, desc=\"Train\")\n",
    "    for seqs, lengths, attn_mask, labels in loop:\n",
    "        optimizer.zero_grad()\n",
    "        outputs = model(seqs, lengths, attn_mask)  # <-- add attn_mask here\n",
    "        loss = criterion(outputs, labels)\n",
    "        loss.backward()\n",
    "        optimizer.step()\n",
    "        total_loss += loss.item() * labels.size(0)\n",
    "        preds = outputs.argmax(dim=1)\n",
    "        correct += (preds == labels).sum().item()\n",
    "        total += labels.size(0)\n",
    "        loop.set_postfix(loss=loss.item(), acc=correct / total)\n",
    "    return total_loss / total, correct / total\n",
    "\n",
    "\n",
    "def eval_epoch(model, loader, criterion):\n",
    "    model.eval()\n",
    "    total_loss, correct, total = 0, 0, 0\n",
    "    loop = tqdm(loader, desc=\"Val\")\n",
    "    with torch.no_grad():\n",
    "        for seqs, lengths, attn_mask, labels in loop:\n",
    "            outputs = model(seqs, lengths, attn_mask)  # <-- add attn_mask here\n",
    "            loss = criterion(outputs, labels)\n",
    "            total_loss += loss.item() * labels.size(0)\n",
    "            preds = outputs.argmax(dim=1)\n",
    "            correct += (preds == labels).sum().item()\n",
    "            total += labels.size(0)\n",
    "            loop.set_postfix(loss=loss.item(), acc=correct / total)\n",
    "    return total_loss / total, correct / total\n",
    "\n",
    "\n",
    "# Run training\n",
    "num_epochs = 20\n",
    "for epoch in range(1, num_epochs + 1):\n",
    "    train_loss, train_acc = train_epoch(model, train_loader, criterion, optimizer)\n",
    "    val_loss, val_acc = eval_epoch(model, val_loader, criterion)\n",
    "    print(\n",
    "        f\"Epoch {epoch:>2d}: train_loss={train_loss:.4f}, train_acc={train_acc:.4f} | val_loss={val_loss:.4f}, val_acc={val_acc:.4f}\"\n",
    "    )\n",
    "    \n",
    "    # Log to wandb\n",
    "    wandb.log(\n",
    "        {\n",
    "            \"epoch\": epoch,\n",
    "            \"train_loss\": train_loss,\n",
    "            \"train_accuracy\": train_acc,\n",
    "            \"val_loss\": val_loss,\n",
    "            \"val_accuracy\": val_acc,\n",
    "        }\n",
    "    )\n",
    "    \n",
    "wandb.finish()"
   ]
  },
  {
   "cell_type": "code",
   "execution_count": null,
   "id": "ecd15998",
   "metadata": {},
   "outputs": [
    {
     "name": "stderr",
     "output_type": "stream",
     "text": [
      "Collecting predictions: 100%|██████████| 2351/2351 [00:01<00:00, 1792.71it/s]"
     ]
    },
    {
     "name": "stdout",
     "output_type": "stream",
     "text": [
      "ROC AUC Score (OvR): 0.7321\n",
      "\n",
      "Classification Report:\n",
      "               precision    recall  f1-score   support\n",
      "\n",
      "           0       0.52      0.56      0.54     21127\n",
      "           1       0.62      0.63      0.62     34706\n",
      "           2       0.43      0.39      0.41     19394\n",
      "\n",
      "    accuracy                           0.55     75227\n",
      "   macro avg       0.52      0.52      0.52     75227\n",
      "weighted avg       0.54      0.55      0.54     75227\n",
      "\n"
     ]
    },
    {
     "name": "stderr",
     "output_type": "stream",
     "text": [
      "\n"
     ]
    },
    {
     "data": {
      "image/png": "[encoded data removed]",
      "text/plain": [
       "<Figure size 800x600 with 2 Axes>"
      ]
     },
     "metadata": {},
     "output_type": "display_data"
    }
   ],
   "source": [
    "from sklearn.metrics import roc_auc_score, classification_report, confusion_matrix\n",
    "import seaborn as sns\n",
    "import matplotlib.pyplot as plt\n",
    "import numpy as np\n",
    "\n",
    "# 1. Collect all true labels and predicted probabilities\n",
    "model.eval()\n",
    "all_labels = []\n",
    "all_preds = []\n",
    "all_probs = []\n",
    "\n",
    "with torch.no_grad():\n",
    "    for seqs, lengths, attn_mask, labels in tqdm(\n",
    "        val_loader, desc=\"Collecting predictions\"\n",
    "    ):\n",
    "        outputs = model(seqs, lengths, attn_mask)  # <-- add attn_mask here\n",
    "        probs = torch.softmax(outputs, dim=1)\n",
    "        preds = outputs.argmax(dim=1)\n",
    "\n",
    "        all_labels.append(labels.cpu().numpy())\n",
    "        all_preds.append(preds.cpu().numpy())\n",
    "        all_probs.append(probs.cpu().numpy())\n",
    "\n",
    "all_labels = np.concatenate(all_labels)\n",
    "all_preds = np.concatenate(all_preds)\n",
    "all_probs = np.concatenate(all_probs)\n",
    "\n",
    "# 2. ROC AUC Score (one-vs-rest for multiclass)\n",
    "roc_auc = roc_auc_score(all_labels, all_probs, multi_class=\"ovr\")\n",
    "print(f\"ROC AUC Score (OvR): {roc_auc:.4f}\")\n",
    "\n",
    "# 3. Classification Report\n",
    "report = classification_report(all_labels, all_preds)\n",
    "print(\"\\nClassification Report:\\n\", report)\n",
    "\n",
    "# 4. Confusion Matrix\n",
    "cm = confusion_matrix(all_labels, all_preds)\n",
    "plt.figure(figsize=(8, 6))\n",
    "sns.heatmap(cm, annot=True, fmt=\"d\", cmap=\"Blues\")\n",
    "plt.title(\"Confusion Matrix Heatmap\")\n",
    "plt.xlabel(\"Predicted Labels\")\n",
    "plt.ylabel(\"True Labels\")\n",
    "plt.show()"
   ]
  }
 ],
 "metadata": {
  "kernelspec": {
   "display_name": ".venv",
   "language": "python",
   "name": "python3"
  },
  "language_info": {
   "codemirror_mode": {
    "name": "ipython",
    "version": 3
   },
   "file_extension": ".py",
   "mimetype": "text/x-python",
   "name": "python",
   "nbconvert_exporter": "python",
   "pygments_lexer": "ipython3",
   "version": "3.9.2"
  }
 },
 "nbformat": 4,
 "nbformat_minor": 5
}
