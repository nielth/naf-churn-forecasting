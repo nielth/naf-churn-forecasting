{
 "cells": [
  {
   "cell_type": "code",
   "execution_count": null,
   "id": "40bc7a97",
   "metadata": {},
   "outputs": [],
   "source": [
    "import torch\n",
    "from torch import nn\n",
    "from torch.utils.data import Dataset, DataLoader\n",
    "from torch.nn.utils.rnn import pad_sequence, pack_padded_sequence\n",
    "from tqdm import tqdm"
   ]
  },
  {
   "cell_type": "code",
   "execution_count": null,
   "id": "d3979f23",
   "metadata": {},
   "outputs": [],
   "source": [
    "device = torch.device(\"cuda\" if torch.cuda.is_available() else \"cpu\")\n",
    "\n",
    "# Feature columns\n",
    "feature_cols = [\n",
    "    \"year\",\n",
    "    \"membership_year\",\n",
    "    \"is_household\",\n",
    "    \"vehicle_count\",\n",
    "    \"vehicle_age_mean\",\n",
    "    \"beløp\",\n",
    "    \"gave_feedback\",\n",
    "    \"mean_feedback\",\n",
    "    \"age\",\n",
    "    \"gender\",\n",
    "    \"sentralitetsindex\",\n",
    "]\n",
    "\n",
    "# Load the examples\n",
    "train_examples = torch.load(\"all/train_examples.pt\")\n",
    "val_examples = torch.load(\"all/val_examples.pt\")"
   ]
  },
  {
   "cell_type": "code",
   "execution_count": 3,
   "id": "4957cd5c",
   "metadata": {},
   "outputs": [],
   "source": [
    "# 4. Dataset & DataLoader\n",
    "class ChurnDataset(Dataset):\n",
    "    def __init__(self, examples):\n",
    "        self.examples = examples\n",
    "\n",
    "    def __len__(self):\n",
    "        return len(self.examples)\n",
    "\n",
    "    def __getitem__(self, idx):\n",
    "        seq, length, label = self.examples[idx]\n",
    "        return seq, length, label\n",
    "\n",
    "\n",
    "def collate_fn(batch):\n",
    "    seqs, lengths, labels = zip(*batch)\n",
    "    seqs_padded = pad_sequence(seqs, batch_first=True)  # [B, T, F]\n",
    "    lengths = torch.tensor(lengths, dtype=torch.long)  # [B]\n",
    "    labels = torch.tensor(labels, dtype=torch.long)  # [B]\n",
    "    # make padding mask if you need it (not used by GRU directly)\n",
    "    max_len = seqs_padded.size(1)\n",
    "    attn_mask = (\n",
    "        torch.arange(max_len).unsqueeze(0).expand(len(lengths), -1)\n",
    "        >= lengths.unsqueeze(1)\n",
    "    ).to(\n",
    "        device\n",
    "    )  # True==padding\n",
    "    return (\n",
    "        seqs_padded.to(device),\n",
    "        lengths.to(device),\n",
    "        attn_mask,\n",
    "        labels.to(device),\n",
    "    )\n",
    "\n",
    "\n",
    "train_ds = ChurnDataset(train_examples)\n",
    "val_ds = ChurnDataset(val_examples)\n",
    "train_loader = DataLoader(train_ds, batch_size=512, shuffle=True, collate_fn=collate_fn)\n",
    "val_loader = DataLoader(val_ds, batch_size=512, shuffle=False, collate_fn=collate_fn)"
   ]
  },
  {
   "cell_type": "code",
   "execution_count": 4,
   "id": "45d80f5b",
   "metadata": {},
   "outputs": [],
   "source": [
    "# 5. Model\n",
    "torch.manual_seed(42)\n",
    "\n",
    "\n",
    "class GRUClassifier(nn.Module):\n",
    "    def __init__(\n",
    "        self,\n",
    "        input_size: int,\n",
    "        hidden_size: int = 64,\n",
    "        num_layers: int = 2,\n",
    "        num_classes: int = 3,\n",
    "        bidirectional: bool = False,\n",
    "        dropout: float = 0.0,\n",
    "    ):\n",
    "        super().__init__()\n",
    "        self.gru = nn.GRU(\n",
    "            input_size,\n",
    "            hidden_size,\n",
    "            num_layers,\n",
    "            batch_first=True,\n",
    "            bidirectional=bidirectional,\n",
    "            dropout=dropout if num_layers > 1 else 0.0,\n",
    "        )\n",
    "        self.num_directions = 2 if bidirectional else 1\n",
    "        self.fc = nn.Linear(hidden_size * self.num_directions, num_classes)\n",
    "\n",
    "    def forward(self, x, lengths):\n",
    "        # x: [B, T, F], lengths: [B]\n",
    "        packed = pack_padded_sequence(\n",
    "            x, lengths.cpu(), batch_first=True, enforce_sorted=False\n",
    "        )\n",
    "        packed_out, h_n = self.gru(packed)\n",
    "        # h_n: [num_layers * num_directions, B, hidden_size]\n",
    "        if self.num_directions == 2:\n",
    "            # concat forward + backward of last layer\n",
    "            h_out = torch.cat([h_n[-2], h_n[-1]], dim=1)\n",
    "        else:\n",
    "            h_out = h_n[-1]\n",
    "        return self.fc(h_out)\n",
    "\n",
    "\n",
    "# Instantiate\n",
    "input_size = len(feature_cols)\n",
    "hidden_size = 64\n",
    "num_layers = 2\n",
    "num_classes = 3\n",
    "model = GRUClassifier(\n",
    "    input_size, hidden_size, num_layers, num_classes, bidirectional=True, dropout=0.3\n",
    ").to(device)\n",
    "\n",
    "# Loss & optimizer\n",
    "criterion = nn.CrossEntropyLoss()\n",
    "optimizer = torch.optim.Adam(model.parameters(), lr=1e-3)"
   ]
  },
  {
   "cell_type": "code",
   "execution_count": 5,
   "id": "db2ce0ff",
   "metadata": {},
   "outputs": [
    {
     "name": "stderr",
     "output_type": "stream",
     "text": [
      "\u001b[34m\u001b[1mwandb\u001b[0m: Currently logged in as: \u001b[33mjunta\u001b[0m to \u001b[32mhttps://api.wandb.ai\u001b[0m. Use \u001b[1m`wandb login --relogin`\u001b[0m to force relogin\n"
     ]
    },
    {
     "data": {
      "text/html": [
       "Tracking run with wandb version 0.19.10"
      ],
      "text/plain": [
       "<IPython.core.display.HTML object>"
      ]
     },
     "metadata": {},
     "output_type": "display_data"
    },
    {
     "data": {
      "text/html": [
       "Run data is saved locally in <code>/root/nielsen/churn/wandb/run-20250531_162345-tyn8y2y2</code>"
      ],
      "text/plain": [
       "<IPython.core.display.HTML object>"
      ]
     },
     "metadata": {},
     "output_type": "display_data"
    },
    {
     "data": {
      "text/html": [
       "Syncing run <strong><a href='https://wandb.ai/junta/churn/runs/tyn8y2y2' target=\"_blank\">gru</a></strong> to <a href='https://wandb.ai/junta/churn' target=\"_blank\">Weights & Biases</a> (<a href='https://wandb.me/developer-guide' target=\"_blank\">docs</a>)<br>"
      ],
      "text/plain": [
       "<IPython.core.display.HTML object>"
      ]
     },
     "metadata": {},
     "output_type": "display_data"
    },
    {
     "data": {
      "text/html": [
       " View project at <a href='https://wandb.ai/junta/churn' target=\"_blank\">https://wandb.ai/junta/churn</a>"
      ],
      "text/plain": [
       "<IPython.core.display.HTML object>"
      ]
     },
     "metadata": {},
     "output_type": "display_data"
    },
    {
     "data": {
      "text/html": [
       " View run at <a href='https://wandb.ai/junta/churn/runs/tyn8y2y2' target=\"_blank\">https://wandb.ai/junta/churn/runs/tyn8y2y2</a>"
      ],
      "text/plain": [
       "<IPython.core.display.HTML object>"
      ]
     },
     "metadata": {},
     "output_type": "display_data"
    },
    {
     "name": "stderr",
     "output_type": "stream",
     "text": [
      "Train: 100%|██████████| 588/588 [00:25<00:00, 23.18it/s, acc=0.533, loss=0.937]\n",
      "Val: 100%|██████████| 147/147 [00:05<00:00, 28.81it/s, acc=0.545, loss=0.855]\n"
     ]
    },
    {
     "name": "stdout",
     "output_type": "stream",
     "text": [
      "Epoch  1 | train_loss=0.9351, train_acc=0.5327 | val_loss=0.9119, val_acc=0.5454\n"
     ]
    },
    {
     "name": "stderr",
     "output_type": "stream",
     "text": [
      "Train: 100%|██████████| 588/588 [00:25<00:00, 23.02it/s, acc=0.543, loss=0.88] \n",
      "Val: 100%|██████████| 147/147 [00:06<00:00, 23.98it/s, acc=0.547, loss=0.847]\n"
     ]
    },
    {
     "name": "stdout",
     "output_type": "stream",
     "text": [
      "Epoch  2 | train_loss=0.9072, train_acc=0.5432 | val_loss=0.9021, val_acc=0.5466\n"
     ]
    },
    {
     "name": "stderr",
     "output_type": "stream",
     "text": [
      "Train: 100%|██████████| 588/588 [00:29<00:00, 20.06it/s, acc=0.544, loss=0.894]\n",
      "Val: 100%|██████████| 147/147 [00:06<00:00, 23.96it/s, acc=0.547, loss=0.839]\n"
     ]
    },
    {
     "name": "stdout",
     "output_type": "stream",
     "text": [
      "Epoch  3 | train_loss=0.9010, train_acc=0.5441 | val_loss=0.8983, val_acc=0.5467\n"
     ]
    },
    {
     "name": "stderr",
     "output_type": "stream",
     "text": [
      "Train: 100%|██████████| 588/588 [00:27<00:00, 21.22it/s, acc=0.545, loss=0.865]\n",
      "Val: 100%|██████████| 147/147 [00:05<00:00, 27.55it/s, acc=0.549, loss=0.846]\n"
     ]
    },
    {
     "name": "stdout",
     "output_type": "stream",
     "text": [
      "Epoch  4 | train_loss=0.8982, train_acc=0.5447 | val_loss=0.8964, val_acc=0.5495\n"
     ]
    },
    {
     "name": "stderr",
     "output_type": "stream",
     "text": [
      "Train: 100%|██████████| 588/588 [00:25<00:00, 23.50it/s, acc=0.547, loss=0.897]\n",
      "Val: 100%|██████████| 147/147 [00:05<00:00, 28.80it/s, acc=0.546, loss=0.833]\n"
     ]
    },
    {
     "name": "stdout",
     "output_type": "stream",
     "text": [
      "Epoch  5 | train_loss=0.8961, train_acc=0.5467 | val_loss=0.8952, val_acc=0.5461\n"
     ]
    },
    {
     "name": "stderr",
     "output_type": "stream",
     "text": [
      "Train: 100%|██████████| 588/588 [00:25<00:00, 23.05it/s, acc=0.547, loss=0.867]\n",
      "Val: 100%|██████████| 147/147 [00:05<00:00, 28.87it/s, acc=0.55, loss=0.831] \n"
     ]
    },
    {
     "name": "stdout",
     "output_type": "stream",
     "text": [
      "Epoch  6 | train_loss=0.8942, train_acc=0.5468 | val_loss=0.8926, val_acc=0.5495\n"
     ]
    },
    {
     "name": "stderr",
     "output_type": "stream",
     "text": [
      "Train: 100%|██████████| 588/588 [00:24<00:00, 23.59it/s, acc=0.548, loss=0.928]\n",
      "Val: 100%|██████████| 147/147 [00:05<00:00, 28.06it/s, acc=0.55, loss=0.828] \n"
     ]
    },
    {
     "name": "stdout",
     "output_type": "stream",
     "text": [
      "Epoch  7 | train_loss=0.8921, train_acc=0.5483 | val_loss=0.8907, val_acc=0.5499\n"
     ]
    },
    {
     "name": "stderr",
     "output_type": "stream",
     "text": [
      "Train: 100%|██████████| 588/588 [00:25<00:00, 23.30it/s, acc=0.548, loss=0.888]\n",
      "Val: 100%|██████████| 147/147 [00:06<00:00, 24.39it/s, acc=0.551, loss=0.833]\n"
     ]
    },
    {
     "name": "stdout",
     "output_type": "stream",
     "text": [
      "Epoch  8 | train_loss=0.8906, train_acc=0.5481 | val_loss=0.8944, val_acc=0.5506\n"
     ]
    },
    {
     "name": "stderr",
     "output_type": "stream",
     "text": [
      "Train: 100%|██████████| 588/588 [00:28<00:00, 20.76it/s, acc=0.549, loss=0.846]\n",
      "Val: 100%|██████████| 147/147 [00:05<00:00, 27.38it/s, acc=0.55, loss=0.834] \n"
     ]
    },
    {
     "name": "stdout",
     "output_type": "stream",
     "text": [
      "Epoch  9 | train_loss=0.8889, train_acc=0.5490 | val_loss=0.8885, val_acc=0.5499\n"
     ]
    },
    {
     "name": "stderr",
     "output_type": "stream",
     "text": [
      "Train: 100%|██████████| 588/588 [00:24<00:00, 24.04it/s, acc=0.55, loss=0.926] \n",
      "Val: 100%|██████████| 147/147 [00:04<00:00, 29.94it/s, acc=0.553, loss=0.825]\n"
     ]
    },
    {
     "name": "stdout",
     "output_type": "stream",
     "text": [
      "Epoch 10 | train_loss=0.8860, train_acc=0.5496 | val_loss=0.8853, val_acc=0.5527\n"
     ]
    },
    {
     "name": "stderr",
     "output_type": "stream",
     "text": [
      "Train: 100%|██████████| 588/588 [00:25<00:00, 23.27it/s, acc=0.551, loss=0.912]\n",
      "Val: 100%|██████████| 147/147 [00:05<00:00, 28.83it/s, acc=0.554, loss=0.823]\n"
     ]
    },
    {
     "name": "stdout",
     "output_type": "stream",
     "text": [
      "Epoch 11 | train_loss=0.8842, train_acc=0.5506 | val_loss=0.8823, val_acc=0.5541\n"
     ]
    },
    {
     "name": "stderr",
     "output_type": "stream",
     "text": [
      "Train: 100%|██████████| 588/588 [00:25<00:00, 23.19it/s, acc=0.552, loss=0.867]\n",
      "Val: 100%|██████████| 147/147 [00:05<00:00, 24.85it/s, acc=0.552, loss=0.837]\n"
     ]
    },
    {
     "name": "stdout",
     "output_type": "stream",
     "text": [
      "Epoch 12 | train_loss=0.8819, train_acc=0.5516 | val_loss=0.8828, val_acc=0.5517\n"
     ]
    },
    {
     "name": "stderr",
     "output_type": "stream",
     "text": [
      "Train: 100%|██████████| 588/588 [00:26<00:00, 22.36it/s, acc=0.553, loss=0.898]\n",
      "Val: 100%|██████████| 147/147 [00:05<00:00, 28.48it/s, acc=0.554, loss=0.826]\n"
     ]
    },
    {
     "name": "stdout",
     "output_type": "stream",
     "text": [
      "Epoch 13 | train_loss=0.8798, train_acc=0.5528 | val_loss=0.8808, val_acc=0.5544\n"
     ]
    },
    {
     "name": "stderr",
     "output_type": "stream",
     "text": [
      "Train: 100%|██████████| 588/588 [00:24<00:00, 23.54it/s, acc=0.553, loss=0.867]\n",
      "Val: 100%|██████████| 147/147 [00:05<00:00, 27.29it/s, acc=0.556, loss=0.821]\n"
     ]
    },
    {
     "name": "stdout",
     "output_type": "stream",
     "text": [
      "Epoch 14 | train_loss=0.8782, train_acc=0.5534 | val_loss=0.8782, val_acc=0.5560\n"
     ]
    },
    {
     "name": "stderr",
     "output_type": "stream",
     "text": [
      "Train: 100%|██████████| 588/588 [00:25<00:00, 23.12it/s, acc=0.554, loss=0.866]\n",
      "Val: 100%|██████████| 147/147 [00:05<00:00, 29.15it/s, acc=0.549, loss=0.818]\n"
     ]
    },
    {
     "name": "stdout",
     "output_type": "stream",
     "text": [
      "Epoch 15 | train_loss=0.8765, train_acc=0.5541 | val_loss=0.8794, val_acc=0.5492\n"
     ]
    },
    {
     "name": "stderr",
     "output_type": "stream",
     "text": [
      "Train: 100%|██████████| 588/588 [00:25<00:00, 23.42it/s, acc=0.555, loss=0.85] \n",
      "Val: 100%|██████████| 147/147 [00:05<00:00, 28.46it/s, acc=0.555, loss=0.825]\n"
     ]
    },
    {
     "name": "stdout",
     "output_type": "stream",
     "text": [
      "Epoch 16 | train_loss=0.8760, train_acc=0.5546 | val_loss=0.8781, val_acc=0.5547\n"
     ]
    },
    {
     "name": "stderr",
     "output_type": "stream",
     "text": [
      "Train: 100%|██████████| 588/588 [00:30<00:00, 19.18it/s, acc=0.556, loss=0.874]\n",
      "Val: 100%|██████████| 147/147 [00:04<00:00, 29.99it/s, acc=0.557, loss=0.817]\n"
     ]
    },
    {
     "name": "stdout",
     "output_type": "stream",
     "text": [
      "Epoch 17 | train_loss=0.8748, train_acc=0.5558 | val_loss=0.8779, val_acc=0.5567\n"
     ]
    },
    {
     "name": "stderr",
     "output_type": "stream",
     "text": [
      "Train: 100%|██████████| 588/588 [00:24<00:00, 23.63it/s, acc=0.556, loss=0.834]\n",
      "Val: 100%|██████████| 147/147 [00:05<00:00, 28.72it/s, acc=0.558, loss=0.819]\n"
     ]
    },
    {
     "name": "stdout",
     "output_type": "stream",
     "text": [
      "Epoch 18 | train_loss=0.8739, train_acc=0.5560 | val_loss=0.8750, val_acc=0.5577\n"
     ]
    },
    {
     "name": "stderr",
     "output_type": "stream",
     "text": [
      "Train: 100%|██████████| 588/588 [00:24<00:00, 23.62it/s, acc=0.557, loss=0.94] \n",
      "Val: 100%|██████████| 147/147 [00:05<00:00, 27.34it/s, acc=0.56, loss=0.82]  \n"
     ]
    },
    {
     "name": "stdout",
     "output_type": "stream",
     "text": [
      "Epoch 19 | train_loss=0.8727, train_acc=0.5566 | val_loss=0.8748, val_acc=0.5597\n"
     ]
    },
    {
     "name": "stderr",
     "output_type": "stream",
     "text": [
      "Train: 100%|██████████| 588/588 [00:25<00:00, 23.18it/s, acc=0.557, loss=0.939]\n",
      "Val: 100%|██████████| 147/147 [00:05<00:00, 25.77it/s, acc=0.554, loss=0.823]\n"
     ]
    },
    {
     "name": "stdout",
     "output_type": "stream",
     "text": [
      "Epoch 20 | train_loss=0.8718, train_acc=0.5571 | val_loss=0.8752, val_acc=0.5543\n"
     ]
    },
    {
     "name": "stderr",
     "output_type": "stream",
     "text": [
      "Train: 100%|██████████| 588/588 [00:26<00:00, 22.43it/s, acc=0.557, loss=0.848]\n",
      "Val: 100%|██████████| 147/147 [00:05<00:00, 29.19it/s, acc=0.555, loss=0.818]\n"
     ]
    },
    {
     "name": "stdout",
     "output_type": "stream",
     "text": [
      "Epoch 21 | train_loss=0.8712, train_acc=0.5572 | val_loss=0.8748, val_acc=0.5549\n"
     ]
    },
    {
     "name": "stderr",
     "output_type": "stream",
     "text": [
      "Train: 100%|██████████| 588/588 [00:25<00:00, 23.16it/s, acc=0.558, loss=0.855]\n",
      "Val: 100%|██████████| 147/147 [00:05<00:00, 26.94it/s, acc=0.557, loss=0.818]\n"
     ]
    },
    {
     "name": "stdout",
     "output_type": "stream",
     "text": [
      "Epoch 22 | train_loss=0.8705, train_acc=0.5581 | val_loss=0.8744, val_acc=0.5570\n"
     ]
    },
    {
     "name": "stderr",
     "output_type": "stream",
     "text": [
      "Train: 100%|██████████| 588/588 [00:28<00:00, 20.29it/s, acc=0.558, loss=0.896]\n",
      "Val: 100%|██████████| 147/147 [00:05<00:00, 25.34it/s, acc=0.557, loss=0.829]\n"
     ]
    },
    {
     "name": "stdout",
     "output_type": "stream",
     "text": [
      "Epoch 23 | train_loss=0.8699, train_acc=0.5584 | val_loss=0.8732, val_acc=0.5572\n"
     ]
    },
    {
     "name": "stderr",
     "output_type": "stream",
     "text": [
      "Train: 100%|██████████| 588/588 [00:28<00:00, 20.75it/s, acc=0.557, loss=0.816]\n",
      "Val: 100%|██████████| 147/147 [00:05<00:00, 24.82it/s, acc=0.559, loss=0.819]\n"
     ]
    },
    {
     "name": "stdout",
     "output_type": "stream",
     "text": [
      "Epoch 24 | train_loss=0.8696, train_acc=0.5573 | val_loss=0.8725, val_acc=0.5589\n"
     ]
    },
    {
     "name": "stderr",
     "output_type": "stream",
     "text": [
      "Train: 100%|██████████| 588/588 [00:27<00:00, 21.37it/s, acc=0.559, loss=0.874]\n",
      "Val: 100%|██████████| 147/147 [00:06<00:00, 23.85it/s, acc=0.559, loss=0.822]\n"
     ]
    },
    {
     "name": "stdout",
     "output_type": "stream",
     "text": [
      "Epoch 25 | train_loss=0.8685, train_acc=0.5587 | val_loss=0.8722, val_acc=0.5586\n"
     ]
    },
    {
     "name": "stderr",
     "output_type": "stream",
     "text": [
      "Train: 100%|██████████| 588/588 [00:28<00:00, 20.48it/s, acc=0.558, loss=0.832]\n",
      "Val: 100%|██████████| 147/147 [00:06<00:00, 23.46it/s, acc=0.56, loss=0.816] \n"
     ]
    },
    {
     "name": "stdout",
     "output_type": "stream",
     "text": [
      "Epoch 26 | train_loss=0.8681, train_acc=0.5584 | val_loss=0.8727, val_acc=0.5597\n"
     ]
    },
    {
     "name": "stderr",
     "output_type": "stream",
     "text": [
      "Train: 100%|██████████| 588/588 [00:27<00:00, 21.53it/s, acc=0.559, loss=0.861]\n",
      "Val: 100%|██████████| 147/147 [00:05<00:00, 26.23it/s, acc=0.558, loss=0.818]\n"
     ]
    },
    {
     "name": "stdout",
     "output_type": "stream",
     "text": [
      "Epoch 27 | train_loss=0.8675, train_acc=0.5592 | val_loss=0.8723, val_acc=0.5584\n"
     ]
    },
    {
     "name": "stderr",
     "output_type": "stream",
     "text": [
      "Train: 100%|██████████| 588/588 [00:25<00:00, 22.66it/s, acc=0.559, loss=0.852]\n",
      "Val: 100%|██████████| 147/147 [00:05<00:00, 28.97it/s, acc=0.558, loss=0.814]\n"
     ]
    },
    {
     "name": "stdout",
     "output_type": "stream",
     "text": [
      "Epoch 28 | train_loss=0.8673, train_acc=0.5591 | val_loss=0.8723, val_acc=0.5582\n"
     ]
    },
    {
     "name": "stderr",
     "output_type": "stream",
     "text": [
      "Train: 100%|██████████| 588/588 [00:24<00:00, 23.57it/s, acc=0.561, loss=0.893]\n",
      "Val: 100%|██████████| 147/147 [00:05<00:00, 28.01it/s, acc=0.559, loss=0.821]\n"
     ]
    },
    {
     "name": "stdout",
     "output_type": "stream",
     "text": [
      "Epoch 29 | train_loss=0.8665, train_acc=0.5606 | val_loss=0.8728, val_acc=0.5594\n"
     ]
    },
    {
     "name": "stderr",
     "output_type": "stream",
     "text": [
      "Train: 100%|██████████| 588/588 [00:27<00:00, 21.36it/s, acc=0.56, loss=0.886] \n",
      "Val: 100%|██████████| 147/147 [00:05<00:00, 25.80it/s, acc=0.559, loss=0.825]\n"
     ]
    },
    {
     "name": "stdout",
     "output_type": "stream",
     "text": [
      "Epoch 30 | train_loss=0.8661, train_acc=0.5599 | val_loss=0.8730, val_acc=0.5588\n"
     ]
    },
    {
     "name": "stderr",
     "output_type": "stream",
     "text": [
      "Train: 100%|██████████| 588/588 [00:27<00:00, 21.77it/s, acc=0.561, loss=0.908]\n",
      "Val: 100%|██████████| 147/147 [00:05<00:00, 28.90it/s, acc=0.556, loss=0.83] \n"
     ]
    },
    {
     "name": "stdout",
     "output_type": "stream",
     "text": [
      "Epoch 31 | train_loss=0.8656, train_acc=0.5608 | val_loss=0.8727, val_acc=0.5557\n"
     ]
    },
    {
     "name": "stderr",
     "output_type": "stream",
     "text": [
      "Train: 100%|██████████| 588/588 [00:25<00:00, 23.36it/s, acc=0.561, loss=0.865]\n",
      "Val: 100%|██████████| 147/147 [00:05<00:00, 27.69it/s, acc=0.56, loss=0.818] \n"
     ]
    },
    {
     "name": "stdout",
     "output_type": "stream",
     "text": [
      "Epoch 32 | train_loss=0.8654, train_acc=0.5606 | val_loss=0.8730, val_acc=0.5597\n"
     ]
    },
    {
     "name": "stderr",
     "output_type": "stream",
     "text": [
      "Train: 100%|██████████| 588/588 [00:24<00:00, 23.71it/s, acc=0.562, loss=0.854]\n",
      "Val: 100%|██████████| 147/147 [00:04<00:00, 29.80it/s, acc=0.557, loss=0.817]\n"
     ]
    },
    {
     "name": "stdout",
     "output_type": "stream",
     "text": [
      "Epoch 33 | train_loss=0.8649, train_acc=0.5616 | val_loss=0.8727, val_acc=0.5566\n"
     ]
    },
    {
     "name": "stderr",
     "output_type": "stream",
     "text": [
      "Train: 100%|██████████| 588/588 [00:27<00:00, 21.53it/s, acc=0.561, loss=0.901]\n",
      "Val: 100%|██████████| 147/147 [00:05<00:00, 25.13it/s, acc=0.558, loss=0.818]\n"
     ]
    },
    {
     "name": "stdout",
     "output_type": "stream",
     "text": [
      "Epoch 34 | train_loss=0.8645, train_acc=0.5613 | val_loss=0.8724, val_acc=0.5577\n"
     ]
    },
    {
     "name": "stderr",
     "output_type": "stream",
     "text": [
      "Train: 100%|██████████| 588/588 [00:28<00:00, 20.45it/s, acc=0.562, loss=0.873]\n",
      "Val: 100%|██████████| 147/147 [00:05<00:00, 27.74it/s, acc=0.555, loss=0.818]\n"
     ]
    },
    {
     "name": "stdout",
     "output_type": "stream",
     "text": [
      "Epoch 35 | train_loss=0.8642, train_acc=0.5615 | val_loss=0.8730, val_acc=0.5553\n"
     ]
    },
    {
     "name": "stderr",
     "output_type": "stream",
     "text": [
      "Train: 100%|██████████| 588/588 [00:26<00:00, 22.19it/s, acc=0.562, loss=0.867]\n",
      "Val: 100%|██████████| 147/147 [00:06<00:00, 23.43it/s, acc=0.559, loss=0.818]\n"
     ]
    },
    {
     "name": "stdout",
     "output_type": "stream",
     "text": [
      "Epoch 36 | train_loss=0.8636, train_acc=0.5618 | val_loss=0.8731, val_acc=0.5587\n"
     ]
    },
    {
     "name": "stderr",
     "output_type": "stream",
     "text": [
      "Train: 100%|██████████| 588/588 [00:29<00:00, 20.27it/s, acc=0.563, loss=0.91] \n",
      "Val: 100%|██████████| 147/147 [00:05<00:00, 28.74it/s, acc=0.555, loss=0.813]\n"
     ]
    },
    {
     "name": "stdout",
     "output_type": "stream",
     "text": [
      "Epoch 37 | train_loss=0.8632, train_acc=0.5626 | val_loss=0.8720, val_acc=0.5552\n"
     ]
    },
    {
     "name": "stderr",
     "output_type": "stream",
     "text": [
      "Train: 100%|██████████| 588/588 [00:27<00:00, 21.53it/s, acc=0.562, loss=0.883]\n",
      "Val: 100%|██████████| 147/147 [00:05<00:00, 27.12it/s, acc=0.557, loss=0.817]\n"
     ]
    },
    {
     "name": "stdout",
     "output_type": "stream",
     "text": [
      "Epoch 38 | train_loss=0.8629, train_acc=0.5623 | val_loss=0.8714, val_acc=0.5571\n"
     ]
    },
    {
     "name": "stderr",
     "output_type": "stream",
     "text": [
      "Train: 100%|██████████| 588/588 [00:24<00:00, 23.53it/s, acc=0.564, loss=0.856]\n",
      "Val: 100%|██████████| 147/147 [00:05<00:00, 28.93it/s, acc=0.556, loss=0.818]\n"
     ]
    },
    {
     "name": "stdout",
     "output_type": "stream",
     "text": [
      "Epoch 39 | train_loss=0.8621, train_acc=0.5637 | val_loss=0.8712, val_acc=0.5559\n"
     ]
    },
    {
     "name": "stderr",
     "output_type": "stream",
     "text": [
      "Train: 100%|██████████| 588/588 [00:24<00:00, 23.93it/s, acc=0.563, loss=0.836]\n",
      "Val: 100%|██████████| 147/147 [00:05<00:00, 29.14it/s, acc=0.556, loss=0.818]\n"
     ]
    },
    {
     "name": "stdout",
     "output_type": "stream",
     "text": [
      "Epoch 40 | train_loss=0.8623, train_acc=0.5628 | val_loss=0.8725, val_acc=0.5563\n"
     ]
    },
    {
     "name": "stderr",
     "output_type": "stream",
     "text": [
      "Train: 100%|██████████| 588/588 [00:22<00:00, 26.13it/s, acc=0.563, loss=0.888]\n",
      "Val: 100%|██████████| 147/147 [00:02<00:00, 55.04it/s, acc=0.555, loss=0.811]\n"
     ]
    },
    {
     "name": "stdout",
     "output_type": "stream",
     "text": [
      "Epoch 41 | train_loss=0.8617, train_acc=0.5635 | val_loss=0.8722, val_acc=0.5554\n"
     ]
    },
    {
     "name": "stderr",
     "output_type": "stream",
     "text": [
      "Train: 100%|██████████| 588/588 [00:18<00:00, 32.51it/s, acc=0.564, loss=0.941]\n",
      "Val: 100%|██████████| 147/147 [00:02<00:00, 57.82it/s, acc=0.56, loss=0.82]  \n"
     ]
    },
    {
     "name": "stdout",
     "output_type": "stream",
     "text": [
      "Epoch 42 | train_loss=0.8609, train_acc=0.5643 | val_loss=0.8731, val_acc=0.5596\n"
     ]
    },
    {
     "name": "stderr",
     "output_type": "stream",
     "text": [
      "Train: 100%|██████████| 588/588 [00:18<00:00, 31.64it/s, acc=0.564, loss=0.867]\n",
      "Val: 100%|██████████| 147/147 [00:02<00:00, 54.20it/s, acc=0.559, loss=0.809]\n"
     ]
    },
    {
     "name": "stdout",
     "output_type": "stream",
     "text": [
      "Epoch 43 | train_loss=0.8609, train_acc=0.5642 | val_loss=0.8730, val_acc=0.5588\n"
     ]
    },
    {
     "name": "stderr",
     "output_type": "stream",
     "text": [
      "Train: 100%|██████████| 588/588 [00:17<00:00, 32.71it/s, acc=0.565, loss=0.895]\n",
      "Val: 100%|██████████| 147/147 [00:02<00:00, 53.77it/s, acc=0.554, loss=0.809]\n"
     ]
    },
    {
     "name": "stdout",
     "output_type": "stream",
     "text": [
      "Epoch 44 | train_loss=0.8601, train_acc=0.5646 | val_loss=0.8736, val_acc=0.5536\n"
     ]
    },
    {
     "name": "stderr",
     "output_type": "stream",
     "text": [
      "Train: 100%|██████████| 588/588 [00:19<00:00, 30.88it/s, acc=0.566, loss=0.837]\n",
      "Val: 100%|██████████| 147/147 [00:03<00:00, 43.41it/s, acc=0.556, loss=0.813]\n"
     ]
    },
    {
     "name": "stdout",
     "output_type": "stream",
     "text": [
      "Epoch 45 | train_loss=0.8599, train_acc=0.5660 | val_loss=0.8725, val_acc=0.5562\n"
     ]
    },
    {
     "name": "stderr",
     "output_type": "stream",
     "text": [
      "Train: 100%|██████████| 588/588 [00:23<00:00, 25.48it/s, acc=0.566, loss=0.863]\n",
      "Val: 100%|██████████| 147/147 [00:03<00:00, 41.41it/s, acc=0.555, loss=0.821]\n"
     ]
    },
    {
     "name": "stdout",
     "output_type": "stream",
     "text": [
      "Epoch 46 | train_loss=0.8589, train_acc=0.5659 | val_loss=0.8734, val_acc=0.5553\n"
     ]
    },
    {
     "name": "stderr",
     "output_type": "stream",
     "text": [
      "Train: 100%|██████████| 588/588 [00:20<00:00, 28.76it/s, acc=0.565, loss=0.864]\n",
      "Val: 100%|██████████| 147/147 [00:02<00:00, 54.19it/s, acc=0.556, loss=0.814]\n"
     ]
    },
    {
     "name": "stdout",
     "output_type": "stream",
     "text": [
      "Epoch 47 | train_loss=0.8593, train_acc=0.5654 | val_loss=0.8726, val_acc=0.5561\n"
     ]
    },
    {
     "name": "stderr",
     "output_type": "stream",
     "text": [
      "Train: 100%|██████████| 588/588 [00:25<00:00, 22.75it/s, acc=0.567, loss=0.871]\n",
      "Val: 100%|██████████| 147/147 [00:05<00:00, 24.88it/s, acc=0.557, loss=0.817]\n"
     ]
    },
    {
     "name": "stdout",
     "output_type": "stream",
     "text": [
      "Epoch 48 | train_loss=0.8585, train_acc=0.5668 | val_loss=0.8744, val_acc=0.5571\n"
     ]
    },
    {
     "name": "stderr",
     "output_type": "stream",
     "text": [
      "Train: 100%|██████████| 588/588 [00:28<00:00, 20.39it/s, acc=0.567, loss=0.84] \n",
      "Val: 100%|██████████| 147/147 [00:04<00:00, 29.43it/s, acc=0.557, loss=0.816]\n"
     ]
    },
    {
     "name": "stdout",
     "output_type": "stream",
     "text": [
      "Epoch 49 | train_loss=0.8581, train_acc=0.5672 | val_loss=0.8734, val_acc=0.5573\n"
     ]
    },
    {
     "name": "stderr",
     "output_type": "stream",
     "text": [
      "Train: 100%|██████████| 588/588 [00:27<00:00, 21.72it/s, acc=0.567, loss=0.878]\n",
      "Val: 100%|██████████| 147/147 [00:04<00:00, 29.55it/s, acc=0.556, loss=0.811]\n"
     ]
    },
    {
     "name": "stdout",
     "output_type": "stream",
     "text": [
      "Epoch 50 | train_loss=0.8573, train_acc=0.5667 | val_loss=0.8732, val_acc=0.5559\n"
     ]
    },
    {
     "name": "stderr",
     "output_type": "stream",
     "text": [
      "Train: 100%|██████████| 588/588 [00:24<00:00, 23.67it/s, acc=0.568, loss=0.85] \n",
      "Val: 100%|██████████| 147/147 [00:05<00:00, 29.34it/s, acc=0.556, loss=0.814]\n"
     ]
    },
    {
     "name": "stdout",
     "output_type": "stream",
     "text": [
      "Epoch 51 | train_loss=0.8572, train_acc=0.5682 | val_loss=0.8738, val_acc=0.5558\n"
     ]
    },
    {
     "name": "stderr",
     "output_type": "stream",
     "text": [
      "Train:  52%|█████▏    | 306/588 [00:14<00:13, 21.01it/s, acc=0.567, loss=0.878]\n"
     ]
    },
    {
     "ename": "KeyboardInterrupt",
     "evalue": "",
     "output_type": "error",
     "traceback": [
      "\u001b[31m---------------------------------------------------------------------------\u001b[39m",
      "\u001b[31mKeyboardInterrupt\u001b[39m                         Traceback (most recent call last)",
      "\u001b[36mCell\u001b[39m\u001b[36m \u001b[39m\u001b[32mIn[5]\u001b[39m\u001b[32m, line 47\u001b[39m\n\u001b[32m     45\u001b[39m \u001b[38;5;66;03m# 8. Run training\u001b[39;00m\n\u001b[32m     46\u001b[39m \u001b[38;5;28;01mfor\u001b[39;00m epoch \u001b[38;5;129;01min\u001b[39;00m \u001b[38;5;28mrange\u001b[39m(\u001b[32m1\u001b[39m, num_epochs + \u001b[32m1\u001b[39m):\n\u001b[32m---> \u001b[39m\u001b[32m47\u001b[39m     train_loss, train_acc = \u001b[43mtrain_epoch\u001b[49m\u001b[43m(\u001b[49m\u001b[43mmodel\u001b[49m\u001b[43m,\u001b[49m\u001b[43m \u001b[49m\u001b[43mtrain_loader\u001b[49m\u001b[43m,\u001b[49m\u001b[43m \u001b[49m\u001b[43mcriterion\u001b[49m\u001b[43m,\u001b[49m\u001b[43m \u001b[49m\u001b[43moptimizer\u001b[49m\u001b[43m)\u001b[49m\n\u001b[32m     48\u001b[39m     val_loss, val_acc = eval_epoch(model, val_loader, criterion)\n\u001b[32m     49\u001b[39m     \u001b[38;5;28mprint\u001b[39m(\n\u001b[32m     50\u001b[39m         \u001b[33mf\u001b[39m\u001b[33m\"\u001b[39m\u001b[33mEpoch \u001b[39m\u001b[38;5;132;01m{\u001b[39;00mepoch\u001b[38;5;132;01m:\u001b[39;00m\u001b[33m>2d\u001b[39m\u001b[38;5;132;01m}\u001b[39;00m\u001b[33m | train_loss=\u001b[39m\u001b[38;5;132;01m{\u001b[39;00mtrain_loss\u001b[38;5;132;01m:\u001b[39;00m\u001b[33m.4f\u001b[39m\u001b[38;5;132;01m}\u001b[39;00m\u001b[33m, train_acc=\u001b[39m\u001b[38;5;132;01m{\u001b[39;00mtrain_acc\u001b[38;5;132;01m:\u001b[39;00m\u001b[33m.4f\u001b[39m\u001b[38;5;132;01m}\u001b[39;00m\u001b[33m | val_loss=\u001b[39m\u001b[38;5;132;01m{\u001b[39;00mval_loss\u001b[38;5;132;01m:\u001b[39;00m\u001b[33m.4f\u001b[39m\u001b[38;5;132;01m}\u001b[39;00m\u001b[33m, val_acc=\u001b[39m\u001b[38;5;132;01m{\u001b[39;00mval_acc\u001b[38;5;132;01m:\u001b[39;00m\u001b[33m.4f\u001b[39m\u001b[38;5;132;01m}\u001b[39;00m\u001b[33m\"\u001b[39m\n\u001b[32m     51\u001b[39m     )\n",
      "\u001b[36mCell\u001b[39m\u001b[36m \u001b[39m\u001b[32mIn[5]\u001b[39m\u001b[32m, line 13\u001b[39m, in \u001b[36mtrain_epoch\u001b[39m\u001b[34m(model, loader, criterion, optimizer)\u001b[39m\n\u001b[32m     11\u001b[39m total_loss, correct, total = \u001b[32m0.0\u001b[39m, \u001b[32m0\u001b[39m, \u001b[32m0\u001b[39m\n\u001b[32m     12\u001b[39m loop = tqdm(loader, desc=\u001b[33m\"\u001b[39m\u001b[33mTrain\u001b[39m\u001b[33m\"\u001b[39m)\n\u001b[32m---> \u001b[39m\u001b[32m13\u001b[39m \u001b[43m\u001b[49m\u001b[38;5;28;43;01mfor\u001b[39;49;00m\u001b[43m \u001b[49m\u001b[43mseqs\u001b[49m\u001b[43m,\u001b[49m\u001b[43m \u001b[49m\u001b[43mlengths\u001b[49m\u001b[43m,\u001b[49m\u001b[43m \u001b[49m\u001b[43mattn_mask\u001b[49m\u001b[43m,\u001b[49m\u001b[43m \u001b[49m\u001b[43mlabels\u001b[49m\u001b[43m \u001b[49m\u001b[38;5;129;43;01min\u001b[39;49;00m\u001b[43m \u001b[49m\u001b[43mloop\u001b[49m\u001b[43m:\u001b[49m\n\u001b[32m     14\u001b[39m \u001b[43m    \u001b[49m\u001b[43moptimizer\u001b[49m\u001b[43m.\u001b[49m\u001b[43mzero_grad\u001b[49m\u001b[43m(\u001b[49m\u001b[43m)\u001b[49m\n\u001b[32m     15\u001b[39m \u001b[43m    \u001b[49m\u001b[43moutputs\u001b[49m\u001b[43m \u001b[49m\u001b[43m=\u001b[49m\u001b[43m \u001b[49m\u001b[43mmodel\u001b[49m\u001b[43m(\u001b[49m\u001b[43mseqs\u001b[49m\u001b[43m,\u001b[49m\u001b[43m \u001b[49m\u001b[43mlengths\u001b[49m\u001b[43m)\u001b[49m\n",
      "\u001b[36mFile \u001b[39m\u001b[32m~/nielsen/churn/.venv/lib/python3.11/site-packages/tqdm/std.py:1181\u001b[39m, in \u001b[36mtqdm.__iter__\u001b[39m\u001b[34m(self)\u001b[39m\n\u001b[32m   1178\u001b[39m time = \u001b[38;5;28mself\u001b[39m._time\n\u001b[32m   1180\u001b[39m \u001b[38;5;28;01mtry\u001b[39;00m:\n\u001b[32m-> \u001b[39m\u001b[32m1181\u001b[39m \u001b[43m    \u001b[49m\u001b[38;5;28;43;01mfor\u001b[39;49;00m\u001b[43m \u001b[49m\u001b[43mobj\u001b[49m\u001b[43m \u001b[49m\u001b[38;5;129;43;01min\u001b[39;49;00m\u001b[43m \u001b[49m\u001b[43miterable\u001b[49m\u001b[43m:\u001b[49m\n\u001b[32m   1182\u001b[39m \u001b[43m        \u001b[49m\u001b[38;5;28;43;01myield\u001b[39;49;00m\u001b[43m \u001b[49m\u001b[43mobj\u001b[49m\n\u001b[32m   1183\u001b[39m \u001b[43m        \u001b[49m\u001b[38;5;66;43;03m# Update and possibly print the progressbar.\u001b[39;49;00m\n\u001b[32m   1184\u001b[39m \u001b[43m        \u001b[49m\u001b[38;5;66;43;03m# Note: does not call self.update(1) for speed optimisation.\u001b[39;49;00m\n",
      "\u001b[36mFile \u001b[39m\u001b[32m~/nielsen/churn/.venv/lib/python3.11/site-packages/torch/utils/data/dataloader.py:733\u001b[39m, in \u001b[36m_BaseDataLoaderIter.__next__\u001b[39m\u001b[34m(self)\u001b[39m\n\u001b[32m    730\u001b[39m \u001b[38;5;28;01mif\u001b[39;00m \u001b[38;5;28mself\u001b[39m._sampler_iter \u001b[38;5;129;01mis\u001b[39;00m \u001b[38;5;28;01mNone\u001b[39;00m:\n\u001b[32m    731\u001b[39m     \u001b[38;5;66;03m# TODO(https://github.com/pytorch/pytorch/issues/76750)\u001b[39;00m\n\u001b[32m    732\u001b[39m     \u001b[38;5;28mself\u001b[39m._reset()  \u001b[38;5;66;03m# type: ignore[call-arg]\u001b[39;00m\n\u001b[32m--> \u001b[39m\u001b[32m733\u001b[39m data = \u001b[38;5;28;43mself\u001b[39;49m\u001b[43m.\u001b[49m\u001b[43m_next_data\u001b[49m\u001b[43m(\u001b[49m\u001b[43m)\u001b[49m\n\u001b[32m    734\u001b[39m \u001b[38;5;28mself\u001b[39m._num_yielded += \u001b[32m1\u001b[39m\n\u001b[32m    735\u001b[39m \u001b[38;5;28;01mif\u001b[39;00m (\n\u001b[32m    736\u001b[39m     \u001b[38;5;28mself\u001b[39m._dataset_kind == _DatasetKind.Iterable\n\u001b[32m    737\u001b[39m     \u001b[38;5;129;01mand\u001b[39;00m \u001b[38;5;28mself\u001b[39m._IterableDataset_len_called \u001b[38;5;129;01mis\u001b[39;00m \u001b[38;5;129;01mnot\u001b[39;00m \u001b[38;5;28;01mNone\u001b[39;00m\n\u001b[32m    738\u001b[39m     \u001b[38;5;129;01mand\u001b[39;00m \u001b[38;5;28mself\u001b[39m._num_yielded > \u001b[38;5;28mself\u001b[39m._IterableDataset_len_called\n\u001b[32m    739\u001b[39m ):\n",
      "\u001b[36mFile \u001b[39m\u001b[32m~/nielsen/churn/.venv/lib/python3.11/site-packages/torch/utils/data/dataloader.py:789\u001b[39m, in \u001b[36m_SingleProcessDataLoaderIter._next_data\u001b[39m\u001b[34m(self)\u001b[39m\n\u001b[32m    787\u001b[39m \u001b[38;5;28;01mdef\u001b[39;00m\u001b[38;5;250m \u001b[39m\u001b[34m_next_data\u001b[39m(\u001b[38;5;28mself\u001b[39m):\n\u001b[32m    788\u001b[39m     index = \u001b[38;5;28mself\u001b[39m._next_index()  \u001b[38;5;66;03m# may raise StopIteration\u001b[39;00m\n\u001b[32m--> \u001b[39m\u001b[32m789\u001b[39m     data = \u001b[38;5;28;43mself\u001b[39;49m\u001b[43m.\u001b[49m\u001b[43m_dataset_fetcher\u001b[49m\u001b[43m.\u001b[49m\u001b[43mfetch\u001b[49m\u001b[43m(\u001b[49m\u001b[43mindex\u001b[49m\u001b[43m)\u001b[49m  \u001b[38;5;66;03m# may raise StopIteration\u001b[39;00m\n\u001b[32m    790\u001b[39m     \u001b[38;5;28;01mif\u001b[39;00m \u001b[38;5;28mself\u001b[39m._pin_memory:\n\u001b[32m    791\u001b[39m         data = _utils.pin_memory.pin_memory(data, \u001b[38;5;28mself\u001b[39m._pin_memory_device)\n",
      "\u001b[36mFile \u001b[39m\u001b[32m~/nielsen/churn/.venv/lib/python3.11/site-packages/torch/utils/data/_utils/fetch.py:55\u001b[39m, in \u001b[36m_MapDatasetFetcher.fetch\u001b[39m\u001b[34m(self, possibly_batched_index)\u001b[39m\n\u001b[32m     53\u001b[39m \u001b[38;5;28;01melse\u001b[39;00m:\n\u001b[32m     54\u001b[39m     data = \u001b[38;5;28mself\u001b[39m.dataset[possibly_batched_index]\n\u001b[32m---> \u001b[39m\u001b[32m55\u001b[39m \u001b[38;5;28;01mreturn\u001b[39;00m \u001b[38;5;28;43mself\u001b[39;49m\u001b[43m.\u001b[49m\u001b[43mcollate_fn\u001b[49m\u001b[43m(\u001b[49m\u001b[43mdata\u001b[49m\u001b[43m)\u001b[49m\n",
      "\u001b[36mCell\u001b[39m\u001b[36m \u001b[39m\u001b[32mIn[3]\u001b[39m\u001b[32m, line 16\u001b[39m, in \u001b[36mcollate_fn\u001b[39m\u001b[34m(batch)\u001b[39m\n\u001b[32m     14\u001b[39m \u001b[38;5;28;01mdef\u001b[39;00m\u001b[38;5;250m \u001b[39m\u001b[34mcollate_fn\u001b[39m(batch):\n\u001b[32m     15\u001b[39m     seqs, lengths, labels = \u001b[38;5;28mzip\u001b[39m(*batch)\n\u001b[32m---> \u001b[39m\u001b[32m16\u001b[39m     seqs_padded = \u001b[43mpad_sequence\u001b[49m\u001b[43m(\u001b[49m\u001b[43mseqs\u001b[49m\u001b[43m,\u001b[49m\u001b[43m \u001b[49m\u001b[43mbatch_first\u001b[49m\u001b[43m=\u001b[49m\u001b[38;5;28;43;01mTrue\u001b[39;49;00m\u001b[43m)\u001b[49m  \u001b[38;5;66;03m# [B, T, F]\u001b[39;00m\n\u001b[32m     17\u001b[39m     lengths = torch.tensor(lengths, dtype=torch.long)  \u001b[38;5;66;03m# [B]\u001b[39;00m\n\u001b[32m     18\u001b[39m     labels = torch.tensor(labels, dtype=torch.long)  \u001b[38;5;66;03m# [B]\u001b[39;00m\n",
      "\u001b[36mFile \u001b[39m\u001b[32m~/nielsen/churn/.venv/lib/python3.11/site-packages/torch/nn/utils/rnn.py:475\u001b[39m, in \u001b[36mpad_sequence\u001b[39m\u001b[34m(sequences, batch_first, padding_value, padding_side)\u001b[39m\n\u001b[32m    471\u001b[39m         sequences = sequences.unbind(\u001b[32m0\u001b[39m)  \u001b[38;5;66;03m# type: ignore[assignment]\u001b[39;00m\n\u001b[32m    473\u001b[39m \u001b[38;5;66;03m# assuming trailing dimensions and type of all the Tensors\u001b[39;00m\n\u001b[32m    474\u001b[39m \u001b[38;5;66;03m# in sequences are same and fetching those from sequences[0]\u001b[39;00m\n\u001b[32m--> \u001b[39m\u001b[32m475\u001b[39m \u001b[38;5;28;01mreturn\u001b[39;00m \u001b[43mtorch\u001b[49m\u001b[43m.\u001b[49m\u001b[43m_C\u001b[49m\u001b[43m.\u001b[49m\u001b[43m_nn\u001b[49m\u001b[43m.\u001b[49m\u001b[43mpad_sequence\u001b[49m\u001b[43m(\u001b[49m\n\u001b[32m    476\u001b[39m \u001b[43m    \u001b[49m\u001b[43msequences\u001b[49m\u001b[43m,\u001b[49m\u001b[43m \u001b[49m\u001b[43mbatch_first\u001b[49m\u001b[43m,\u001b[49m\u001b[43m \u001b[49m\u001b[43mpadding_value\u001b[49m\u001b[43m,\u001b[49m\u001b[43m \u001b[49m\u001b[43mpadding_side\u001b[49m\u001b[43m  \u001b[49m\u001b[38;5;66;43;03m# type: ignore[arg-type]\u001b[39;49;00m\n\u001b[32m    477\u001b[39m \u001b[43m\u001b[49m\u001b[43m)\u001b[49m\n",
      "\u001b[31mKeyboardInterrupt\u001b[39m: "
     ]
    }
   ],
   "source": [
    "import wandb\n",
    "\n",
    "num_epochs = 100\n",
    "\n",
    "wandb.init(project=\"churn\", name=\"gru\")\n",
    "\n",
    "\n",
    "# 7. Training & evaluation loops\n",
    "def train_epoch(model, loader, criterion, optimizer):\n",
    "    model.train()\n",
    "    total_loss, correct, total = 0.0, 0, 0\n",
    "    loop = tqdm(loader, desc=\"Train\")\n",
    "    for seqs, lengths, attn_mask, labels in loop:\n",
    "        optimizer.zero_grad()\n",
    "        outputs = model(seqs, lengths)\n",
    "        loss = criterion(outputs, labels)\n",
    "        loss.backward()\n",
    "        optimizer.step()\n",
    "\n",
    "        total_loss += loss.item() * labels.size(0)\n",
    "        preds = outputs.argmax(dim=1)\n",
    "        correct += (preds == labels).sum().item()\n",
    "        total += labels.size(0)\n",
    "        loop.set_postfix(loss=loss.item(), acc=correct / total)\n",
    "    return total_loss / total, correct / total\n",
    "\n",
    "\n",
    "def eval_epoch(model, loader, criterion):\n",
    "    model.eval()\n",
    "    total_loss, correct, total = 0.0, 0, 0\n",
    "    loop = tqdm(loader, desc=\"Val\")\n",
    "    with torch.no_grad():\n",
    "        for seqs, lengths, attn_mask, labels in loop:\n",
    "            outputs = model(seqs, lengths)\n",
    "            loss = criterion(outputs, labels)\n",
    "\n",
    "            total_loss += loss.item() * labels.size(0)\n",
    "            preds = outputs.argmax(dim=1)\n",
    "            correct += (preds == labels).sum().item()\n",
    "            total += labels.size(0)\n",
    "            loop.set_postfix(loss=loss.item(), acc=correct / total)\n",
    "    return total_loss / total, correct / total\n",
    "\n",
    "\n",
    "# 8. Run training\n",
    "for epoch in range(1, num_epochs + 1):\n",
    "    train_loss, train_acc = train_epoch(model, train_loader, criterion, optimizer)\n",
    "    val_loss, val_acc = eval_epoch(model, val_loader, criterion)\n",
    "    print(\n",
    "        f\"Epoch {epoch:>2d} | train_loss={train_loss:.4f}, train_acc={train_acc:.4f} | val_loss={val_loss:.4f}, val_acc={val_acc:.4f}\"\n",
    "    )\n",
    "\n",
    "    # Log to wandb\n",
    "    wandb.log(\n",
    "        {\n",
    "            \"epoch\": epoch,\n",
    "            \"train_loss\": train_loss,\n",
    "            \"train_accuracy\": train_acc,\n",
    "            \"val_loss\": val_loss,\n",
    "            \"val_accuracy\": val_acc,\n",
    "        }\n",
    "    )"
   ]
  },
  {
   "cell_type": "code",
   "execution_count": null,
   "id": "ecd15998",
   "metadata": {},
   "outputs": [
    {
     "name": "stderr",
     "output_type": "stream",
     "text": [
      "Collecting predictions: 100%|██████████| 147/147 [00:04<00:00, 29.56it/s]\n"
     ]
    },
    {
     "name": "stdout",
     "output_type": "stream",
     "text": [
      "ROC AUC Score (OvR): 0.7443\n",
      "\n",
      "Classification Report:\n",
      "               precision    recall  f1-score   support\n",
      "\n",
      "           0       0.50      0.65      0.57     21127\n",
      "           1       0.68      0.60      0.64     34706\n",
      "           2       0.43      0.38      0.40     19394\n",
      "\n",
      "    accuracy                           0.56     75227\n",
      "   macro avg       0.54      0.54      0.54     75227\n",
      "weighted avg       0.56      0.56      0.56     75227\n",
      "\n"
     ]
    },
    {
     "data": {
      "image/png": "[encoded data removed]",
      "text/plain": [
       "<Figure size 800x600 with 2 Axes>"
      ]
     },
     "metadata": {},
     "output_type": "display_data"
    }
   ],
   "source": [
    "from sklearn.metrics import roc_auc_score, classification_report, confusion_matrix\n",
    "import seaborn as sns\n",
    "import matplotlib.pyplot as plt\n",
    "import numpy as np\n",
    "\n",
    "# 1. Collect all true labels and predicted probabilities\n",
    "model.eval()\n",
    "all_labels = []\n",
    "all_preds = []\n",
    "all_probs = []\n",
    "\n",
    "with torch.no_grad():\n",
    "    for seqs, lengths, attn_mask, labels in tqdm(\n",
    "        val_loader, desc=\"Collecting predictions\"\n",
    "    ):\n",
    "        outputs = model(seqs, lengths)\n",
    "        probs = torch.softmax(outputs, dim=1)\n",
    "        preds = outputs.argmax(dim=1)\n",
    "\n",
    "        all_labels.append(labels.cpu().numpy())\n",
    "        all_preds.append(preds.cpu().numpy())\n",
    "        all_probs.append(probs.cpu().numpy())\n",
    "\n",
    "all_labels = np.concatenate(all_labels)\n",
    "all_preds = np.concatenate(all_preds)\n",
    "all_probs = np.concatenate(all_probs)\n",
    "\n",
    "# 2. ROC AUC Score (one-vs-rest for multiclass)\n",
    "roc_auc = roc_auc_score(all_labels, all_probs, multi_class=\"ovr\")\n",
    "print(f\"ROC AUC Score (OvR): {roc_auc:.4f}\")\n",
    "\n",
    "# 3. Classification Report\n",
    "report = classification_report(all_labels, all_preds)\n",
    "print(\"\\nClassification Report:\\n\", report)\n",
    "\n",
    "# 4. Confusion Matrix\n",
    "cm = confusion_matrix(all_labels, all_preds)\n",
    "plt.figure(figsize=(8, 6))\n",
    "sns.heatmap(cm, annot=True, fmt=\"d\", cmap=\"Blues\")\n",
    "plt.title(\"Confusion Matrix Heatmap\")\n",
    "plt.xlabel(\"Predicted Labels\")\n",
    "plt.ylabel(\"True Labels\")\n",
    "plt.show()"
   ]
  },
  {
   "cell_type": "code",
   "execution_count": 20,
   "id": "38a487ff",
   "metadata": {},
   "outputs": [
    {
     "name": "stdout",
     "output_type": "stream",
     "text": [
      "p-value: 0.0\n"
     ]
    }
   ],
   "source": [
    "from scipy.stats import binomtest\n",
    "\n",
    "n = 75227\n",
    "correct = 42126\n",
    "p_random = 1/3  # under H0\n",
    "\n",
    "p_value = binomtest(correct, n, p=p_random, alternative='greater')\n",
    "print(f\"p-value: {p_value.pvalue}\")\n"
   ]
  },
  {
   "cell_type": "code",
   "execution_count": 19,
   "id": "6bd7675d",
   "metadata": {},
   "outputs": [
    {
     "name": "stdout",
     "output_type": "stream",
     "text": [
      "Chi-square test p-value: 0.000000\n"
     ]
    }
   ],
   "source": [
    "from scipy.stats import chisquare\n",
    "\n",
    "# Example: predicted class distribution from your confusion matrix\n",
    "# (you'll need actual predicted class counts here, below are dummy values)\n",
    "pred_counts = [27500, 31000, 16727]\n",
    "expected_counts = [21127, 34706, 19394]  # true class counts\n",
    "\n",
    "chi2, p_value = chisquare(pred_counts, f_exp=expected_counts)\n",
    "print(f\"Chi-square test p-value: {p_value:.6f}\")\n"
   ]
  }
 ],
 "metadata": {
  "kernelspec": {
   "display_name": ".venv",
   "language": "python",
   "name": "python3"
  },
  "language_info": {
   "codemirror_mode": {
    "name": "ipython",
    "version": 3
   },
   "file_extension": ".py",
   "mimetype": "text/x-python",
   "name": "python",
   "nbconvert_exporter": "python",
   "pygments_lexer": "ipython3",
   "version": "3.11.12"
  }
 },
 "nbformat": 4,
 "nbformat_minor": 5
}
