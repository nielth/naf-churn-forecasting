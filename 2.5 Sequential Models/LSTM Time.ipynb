{
 "cells": [
  {
   "cell_type": "code",
   "execution_count": null,
   "id": "40bc7a97",
   "metadata": {},
   "outputs": [],
   "source": [
    "import torch\n",
    "from torch import nn\n",
    "from torch.utils.data import Dataset, DataLoader\n",
    "from torch.nn.utils.rnn import pad_sequence, pack_padded_sequence\n",
    "from tqdm import tqdm"
   ]
  },
  {
   "cell_type": "code",
   "execution_count": null,
   "id": "d3979f23",
   "metadata": {},
   "outputs": [],
   "source": [
    "device = torch.device(\"cuda\" if torch.cuda.is_available() else \"cpu\")\n",
    "\n",
    "# Feature columns\n",
    "feature_cols = [\n",
    "    \"year\",\n",
    "    \"membership_year\",\n",
    "    \"is_household\",\n",
    "    \"vehicle_count\",\n",
    "    \"vehicle_age_mean\",\n",
    "    \"beløp\",\n",
    "    \"gave_feedback\",\n",
    "    \"mean_feedback\",\n",
    "    \"age\",\n",
    "    \"gender\",\n",
    "    \"sentralitetsindex\",\n",
    "]\n",
    "\n",
    "# Load the examples\n",
    "train_examples = torch.load(\"all/train_examples.pt\")\n",
    "val_examples = torch.load(\"all/val_examples.pt\")"
   ]
  },
  {
   "cell_type": "code",
   "execution_count": 3,
   "id": "4957cd5c",
   "metadata": {},
   "outputs": [],
   "source": [
    "# 4. Dataset & DataLoader\n",
    "class ChurnDataset(Dataset):\n",
    "    def __init__(self, examples):\n",
    "        self.examples = examples\n",
    "\n",
    "    def __len__(self):\n",
    "        return len(self.examples)\n",
    "\n",
    "    def __getitem__(self, idx):\n",
    "        seq, length, label = self.examples[idx]\n",
    "        return seq, length, label\n",
    "\n",
    "\n",
    "def collate_fn(batch):\n",
    "    seqs, lengths, labels = zip(*batch)\n",
    "    # pad to the max seq‐len in the batch\n",
    "    seqs_padded = pad_sequence(seqs, batch_first=True)  # [B, T, F]\n",
    "    lengths = torch.tensor(lengths, dtype=torch.long)  # [B]\n",
    "    labels = torch.tensor(labels, dtype=torch.long)  # [B]\n",
    "    # build an attention mask: True == padding\n",
    "    max_len = seqs_padded.size(1)\n",
    "    # shape [B, T]: for each example, positions >= length are padding\n",
    "    attn_mask = torch.arange(max_len, device=lengths.device).unsqueeze(0).expand(\n",
    "        len(lengths), -1\n",
    "    ) >= lengths.unsqueeze(1)\n",
    "    return (\n",
    "        seqs_padded.to(device),\n",
    "        lengths.to(device),\n",
    "        attn_mask.to(device),\n",
    "        labels.to(device),\n",
    "    )\n",
    "\n",
    "\n",
    "train_ds = ChurnDataset(train_examples)\n",
    "val_ds = ChurnDataset(val_examples)\n",
    "train_loader = DataLoader(train_ds, batch_size=512, shuffle=True, collate_fn=collate_fn)\n",
    "val_loader = DataLoader(val_ds, batch_size=512, shuffle=False, collate_fn=collate_fn)"
   ]
  },
  {
   "cell_type": "code",
   "execution_count": 4,
   "id": "45d80f5b",
   "metadata": {},
   "outputs": [],
   "source": [
    "# 5. Model\n",
    "torch.manual_seed(42)\n",
    "\n",
    "\n",
    "class LSTMClassifier(nn.Module):\n",
    "    def __init__(self, input_size, hidden_size, num_layers, num_classes):\n",
    "        super().__init__()\n",
    "        self.lstm = nn.LSTM(input_size, hidden_size, num_layers, batch_first=True)\n",
    "        self.fc = nn.Linear(hidden_size, num_classes)\n",
    "\n",
    "    def forward(self, x, lengths):\n",
    "        packed = pack_padded_sequence(\n",
    "            x, lengths.cpu(), batch_first=True, enforce_sorted=False\n",
    "        )\n",
    "        packed_out, (h_n, c_n) = self.lstm(packed)\n",
    "        out = self.fc(h_n[-1])\n",
    "        return out\n",
    "\n",
    "\n",
    "# Instantiate model\n",
    "input_size = len(feature_cols)\n",
    "hidden_size = 64\n",
    "num_layers = 2\n",
    "num_classes = 3\n",
    "model = LSTMClassifier(input_size, hidden_size, num_layers, num_classes).to(device)\n",
    "\n",
    "# Loss & optimizer\n",
    "criterion = nn.CrossEntropyLoss()\n",
    "optimizer = torch.optim.Adam(model.parameters(), lr=1e-3)"
   ]
  },
  {
   "cell_type": "code",
   "execution_count": null,
   "id": "db2ce0ff",
   "metadata": {},
   "outputs": [
    {
     "name": "stderr",
     "output_type": "stream",
     "text": [
      "\u001b[34m\u001b[1mwandb\u001b[0m: Currently logged in as: \u001b[33mjunta\u001b[0m to \u001b[32mhttps://api.wandb.ai\u001b[0m. Use \u001b[1m`wandb login --relogin`\u001b[0m to force relogin\n"
     ]
    },
    {
     "data": {
      "text/html": [
       "Tracking run with wandb version 0.19.10"
      ],
      "text/plain": [
       "<IPython.core.display.HTML object>"
      ]
     },
     "metadata": {},
     "output_type": "display_data"
    },
    {
     "data": {
      "text/html": [
       "Run data is saved locally in <code>/root/nielsen/churn/LSTM/wandb/run-20250531_164741-9yzso3ut</code>"
      ],
      "text/plain": [
       "<IPython.core.display.HTML object>"
      ]
     },
     "metadata": {},
     "output_type": "display_data"
    },
    {
     "data": {
      "text/html": [
       "Syncing run <strong><a href='https://wandb.ai/junta/churn/runs/9yzso3ut' target=\"_blank\">lstm</a></strong> to <a href='https://wandb.ai/junta/churn' target=\"_blank\">Weights & Biases</a> (<a href='https://wandb.me/developer-guide' target=\"_blank\">docs</a>)<br>"
      ],
      "text/plain": [
       "<IPython.core.display.HTML object>"
      ]
     },
     "metadata": {},
     "output_type": "display_data"
    },
    {
     "data": {
      "text/html": [
       " View project at <a href='https://wandb.ai/junta/churn' target=\"_blank\">https://wandb.ai/junta/churn</a>"
      ],
      "text/plain": [
       "<IPython.core.display.HTML object>"
      ]
     },
     "metadata": {},
     "output_type": "display_data"
    },
    {
     "data": {
      "text/html": [
       " View run at <a href='https://wandb.ai/junta/churn/runs/9yzso3ut' target=\"_blank\">https://wandb.ai/junta/churn/runs/9yzso3ut</a>"
      ],
      "text/plain": [
       "<IPython.core.display.HTML object>"
      ]
     },
     "metadata": {},
     "output_type": "display_data"
    },
    {
     "name": "stderr",
     "output_type": "stream",
     "text": [
      "Train: 100%|██████████| 588/588 [00:22<00:00, 25.89it/s, acc=0.527, loss=0.888]\n",
      "Val: 100%|██████████| 147/147 [00:05<00:00, 25.38it/s, acc=0.545, loss=0.86] \n"
     ]
    },
    {
     "name": "stdout",
     "output_type": "stream",
     "text": [
      "Epoch  1: train_loss=0.9429, train_acc=0.5271 | val_loss=0.9150, val_acc=0.5445\n"
     ]
    },
    {
     "name": "stderr",
     "output_type": "stream",
     "text": [
      "Train: 100%|██████████| 588/588 [00:25<00:00, 22.84it/s, acc=0.545, loss=0.877]\n",
      "Val: 100%|██████████| 147/147 [00:04<00:00, 32.33it/s, acc=0.545, loss=0.849]\n"
     ]
    },
    {
     "name": "stdout",
     "output_type": "stream",
     "text": [
      "Epoch  2: train_loss=0.9065, train_acc=0.5454 | val_loss=0.9058, val_acc=0.5446\n"
     ]
    },
    {
     "name": "stderr",
     "output_type": "stream",
     "text": [
      "Train: 100%|██████████| 588/588 [00:22<00:00, 26.59it/s, acc=0.547, loss=0.841]\n",
      "Val: 100%|██████████| 147/147 [00:05<00:00, 26.56it/s, acc=0.547, loss=0.837]\n"
     ]
    },
    {
     "name": "stdout",
     "output_type": "stream",
     "text": [
      "Epoch  3: train_loss=0.8984, train_acc=0.5465 | val_loss=0.8985, val_acc=0.5467\n"
     ]
    },
    {
     "name": "stderr",
     "output_type": "stream",
     "text": [
      "Train: 100%|██████████| 588/588 [00:21<00:00, 27.24it/s, acc=0.548, loss=0.957]\n",
      "Val: 100%|██████████| 147/147 [00:04<00:00, 33.34it/s, acc=0.55, loss=0.835] \n"
     ]
    },
    {
     "name": "stdout",
     "output_type": "stream",
     "text": [
      "Epoch  4: train_loss=0.8949, train_acc=0.5482 | val_loss=0.8941, val_acc=0.5502\n"
     ]
    },
    {
     "name": "stderr",
     "output_type": "stream",
     "text": [
      "Train: 100%|██████████| 588/588 [00:21<00:00, 27.63it/s, acc=0.548, loss=0.856]\n",
      "Val: 100%|██████████| 147/147 [00:05<00:00, 26.07it/s, acc=0.549, loss=0.84] \n"
     ]
    },
    {
     "name": "stdout",
     "output_type": "stream",
     "text": [
      "Epoch  5: train_loss=0.8931, train_acc=0.5484 | val_loss=0.8952, val_acc=0.5485\n"
     ]
    },
    {
     "name": "stderr",
     "output_type": "stream",
     "text": [
      "Train: 100%|██████████| 588/588 [00:15<00:00, 37.02it/s, acc=0.548, loss=0.854]\n",
      "Val: 100%|██████████| 147/147 [00:02<00:00, 60.74it/s, acc=0.547, loss=0.833]\n"
     ]
    },
    {
     "name": "stdout",
     "output_type": "stream",
     "text": [
      "Epoch  6: train_loss=0.8914, train_acc=0.5477 | val_loss=0.8946, val_acc=0.5474\n"
     ]
    },
    {
     "name": "stderr",
     "output_type": "stream",
     "text": [
      "Train: 100%|██████████| 588/588 [00:12<00:00, 48.00it/s, acc=0.549, loss=0.864]\n",
      "Val: 100%|██████████| 147/147 [00:02<00:00, 60.06it/s, acc=0.55, loss=0.83]  \n"
     ]
    },
    {
     "name": "stdout",
     "output_type": "stream",
     "text": [
      "Epoch  7: train_loss=0.8899, train_acc=0.5493 | val_loss=0.8904, val_acc=0.5502\n"
     ]
    },
    {
     "name": "stderr",
     "output_type": "stream",
     "text": [
      "Train: 100%|██████████| 588/588 [00:12<00:00, 48.02it/s, acc=0.55, loss=0.911] \n",
      "Val: 100%|██████████| 147/147 [00:02<00:00, 60.90it/s, acc=0.551, loss=0.83] \n"
     ]
    },
    {
     "name": "stdout",
     "output_type": "stream",
     "text": [
      "Epoch  8: train_loss=0.8887, train_acc=0.5499 | val_loss=0.8892, val_acc=0.5513\n"
     ]
    },
    {
     "name": "stderr",
     "output_type": "stream",
     "text": [
      "Train: 100%|██████████| 588/588 [00:13<00:00, 42.77it/s, acc=0.55, loss=0.921] \n",
      "Val: 100%|██████████| 147/147 [00:03<00:00, 42.20it/s, acc=0.552, loss=0.833]\n"
     ]
    },
    {
     "name": "stdout",
     "output_type": "stream",
     "text": [
      "Epoch  9: train_loss=0.8875, train_acc=0.5503 | val_loss=0.8891, val_acc=0.5518\n"
     ]
    },
    {
     "name": "stderr",
     "output_type": "stream",
     "text": [
      "Train: 100%|██████████| 588/588 [00:18<00:00, 32.58it/s, acc=0.551, loss=0.893]\n",
      "Val: 100%|██████████| 147/147 [00:03<00:00, 43.82it/s, acc=0.549, loss=0.829]\n"
     ]
    },
    {
     "name": "stdout",
     "output_type": "stream",
     "text": [
      "Epoch 10: train_loss=0.8859, train_acc=0.5510 | val_loss=0.8876, val_acc=0.5492\n"
     ]
    },
    {
     "name": "stderr",
     "output_type": "stream",
     "text": [
      "Train: 100%|██████████| 588/588 [00:12<00:00, 45.34it/s, acc=0.552, loss=0.884]\n",
      "Val: 100%|██████████| 147/147 [00:02<00:00, 60.28it/s, acc=0.553, loss=0.827]\n"
     ]
    },
    {
     "name": "stdout",
     "output_type": "stream",
     "text": [
      "Epoch 11: train_loss=0.8845, train_acc=0.5519 | val_loss=0.8891, val_acc=0.5526\n"
     ]
    },
    {
     "name": "stderr",
     "output_type": "stream",
     "text": [
      "Train: 100%|██████████| 588/588 [00:12<00:00, 47.24it/s, acc=0.553, loss=0.874]\n",
      "Val: 100%|██████████| 147/147 [00:02<00:00, 59.85it/s, acc=0.551, loss=0.833]\n"
     ]
    },
    {
     "name": "stdout",
     "output_type": "stream",
     "text": [
      "Epoch 12: train_loss=0.8830, train_acc=0.5526 | val_loss=0.8843, val_acc=0.5506\n"
     ]
    },
    {
     "name": "stderr",
     "output_type": "stream",
     "text": [
      "Train: 100%|██████████| 588/588 [00:15<00:00, 37.63it/s, acc=0.554, loss=0.872]\n",
      "Val: 100%|██████████| 147/147 [00:03<00:00, 46.03it/s, acc=0.554, loss=0.834]\n"
     ]
    },
    {
     "name": "stdout",
     "output_type": "stream",
     "text": [
      "Epoch 13: train_loss=0.8813, train_acc=0.5536 | val_loss=0.8841, val_acc=0.5544\n"
     ]
    },
    {
     "name": "stderr",
     "output_type": "stream",
     "text": [
      "Train: 100%|██████████| 588/588 [00:16<00:00, 36.40it/s, acc=0.554, loss=0.869]\n",
      "Val: 100%|██████████| 147/147 [00:03<00:00, 47.79it/s, acc=0.554, loss=0.836]\n"
     ]
    },
    {
     "name": "stdout",
     "output_type": "stream",
     "text": [
      "Epoch 14: train_loss=0.8800, train_acc=0.5538 | val_loss=0.8817, val_acc=0.5541\n"
     ]
    },
    {
     "name": "stderr",
     "output_type": "stream",
     "text": [
      "Train: 100%|██████████| 588/588 [00:13<00:00, 44.92it/s, acc=0.555, loss=0.827]\n",
      "Val: 100%|██████████| 147/147 [00:02<00:00, 61.49it/s, acc=0.554, loss=0.828]\n"
     ]
    },
    {
     "name": "stdout",
     "output_type": "stream",
     "text": [
      "Epoch 15: train_loss=0.8779, train_acc=0.5546 | val_loss=0.8821, val_acc=0.5541\n"
     ]
    },
    {
     "name": "stderr",
     "output_type": "stream",
     "text": [
      "Train: 100%|██████████| 588/588 [00:11<00:00, 49.37it/s, acc=0.555, loss=0.898]\n",
      "Val: 100%|██████████| 147/147 [00:02<00:00, 60.38it/s, acc=0.556, loss=0.833]\n"
     ]
    },
    {
     "name": "stdout",
     "output_type": "stream",
     "text": [
      "Epoch 16: train_loss=0.8767, train_acc=0.5555 | val_loss=0.8824, val_acc=0.5555\n"
     ]
    },
    {
     "name": "stderr",
     "output_type": "stream",
     "text": [
      "Train: 100%|██████████| 588/588 [00:12<00:00, 47.39it/s, acc=0.557, loss=0.865]\n",
      "Val: 100%|██████████| 147/147 [00:02<00:00, 61.48it/s, acc=0.555, loss=0.823]\n"
     ]
    },
    {
     "name": "stdout",
     "output_type": "stream",
     "text": [
      "Epoch 17: train_loss=0.8753, train_acc=0.5572 | val_loss=0.8806, val_acc=0.5548\n"
     ]
    },
    {
     "name": "stderr",
     "output_type": "stream",
     "text": [
      "Train: 100%|██████████| 588/588 [00:12<00:00, 48.33it/s, acc=0.558, loss=0.859]\n",
      "Val: 100%|██████████| 147/147 [00:02<00:00, 64.25it/s, acc=0.557, loss=0.829]\n"
     ]
    },
    {
     "name": "stdout",
     "output_type": "stream",
     "text": [
      "Epoch 18: train_loss=0.8735, train_acc=0.5578 | val_loss=0.8816, val_acc=0.5566\n"
     ]
    },
    {
     "name": "stderr",
     "output_type": "stream",
     "text": [
      "Train: 100%|██████████| 588/588 [00:12<00:00, 47.44it/s, acc=0.559, loss=0.888]\n",
      "Val: 100%|██████████| 147/147 [00:02<00:00, 61.91it/s, acc=0.556, loss=0.827]\n"
     ]
    },
    {
     "name": "stdout",
     "output_type": "stream",
     "text": [
      "Epoch 19: train_loss=0.8725, train_acc=0.5591 | val_loss=0.8777, val_acc=0.5564\n"
     ]
    },
    {
     "name": "stderr",
     "output_type": "stream",
     "text": [
      "Train: 100%|██████████| 588/588 [00:12<00:00, 47.86it/s, acc=0.559, loss=0.857]\n",
      "Val: 100%|██████████| 147/147 [00:02<00:00, 59.59it/s, acc=0.557, loss=0.826]\n"
     ]
    },
    {
     "name": "stdout",
     "output_type": "stream",
     "text": [
      "Epoch 20: train_loss=0.8715, train_acc=0.5591 | val_loss=0.8777, val_acc=0.5568\n"
     ]
    },
    {
     "name": "stderr",
     "output_type": "stream",
     "text": [
      "Train: 100%|██████████| 588/588 [00:14<00:00, 40.92it/s, acc=0.56, loss=0.874] \n",
      "Val: 100%|██████████| 147/147 [00:03<00:00, 45.07it/s, acc=0.559, loss=0.827]\n"
     ]
    },
    {
     "name": "stdout",
     "output_type": "stream",
     "text": [
      "Epoch 21: train_loss=0.8706, train_acc=0.5599 | val_loss=0.8752, val_acc=0.5587\n"
     ]
    },
    {
     "name": "stderr",
     "output_type": "stream",
     "text": [
      "Train: 100%|██████████| 588/588 [00:15<00:00, 36.87it/s, acc=0.56, loss=0.86]  \n",
      "Val: 100%|██████████| 147/147 [00:03<00:00, 47.83it/s, acc=0.557, loss=0.824]\n"
     ]
    },
    {
     "name": "stdout",
     "output_type": "stream",
     "text": [
      "Epoch 22: train_loss=0.8695, train_acc=0.5603 | val_loss=0.8758, val_acc=0.5570\n"
     ]
    },
    {
     "name": "stderr",
     "output_type": "stream",
     "text": [
      "Train: 100%|██████████| 588/588 [00:14<00:00, 40.76it/s, acc=0.56, loss=0.811] \n",
      "Val: 100%|██████████| 147/147 [00:02<00:00, 60.04it/s, acc=0.558, loss=0.821]\n"
     ]
    },
    {
     "name": "stdout",
     "output_type": "stream",
     "text": [
      "Epoch 23: train_loss=0.8690, train_acc=0.5605 | val_loss=0.8752, val_acc=0.5578\n"
     ]
    },
    {
     "name": "stderr",
     "output_type": "stream",
     "text": [
      "Train: 100%|██████████| 588/588 [00:12<00:00, 47.76it/s, acc=0.562, loss=0.845]\n",
      "Val: 100%|██████████| 147/147 [00:02<00:00, 61.24it/s, acc=0.556, loss=0.834]\n"
     ]
    },
    {
     "name": "stdout",
     "output_type": "stream",
     "text": [
      "Epoch 24: train_loss=0.8678, train_acc=0.5616 | val_loss=0.8773, val_acc=0.5559\n"
     ]
    },
    {
     "name": "stderr",
     "output_type": "stream",
     "text": [
      "Train: 100%|██████████| 588/588 [00:12<00:00, 48.33it/s, acc=0.562, loss=0.882]\n",
      "Val: 100%|██████████| 147/147 [00:02<00:00, 59.72it/s, acc=0.556, loss=0.819]\n"
     ]
    },
    {
     "name": "stdout",
     "output_type": "stream",
     "text": [
      "Epoch 25: train_loss=0.8672, train_acc=0.5622 | val_loss=0.8763, val_acc=0.5557\n"
     ]
    },
    {
     "name": "stderr",
     "output_type": "stream",
     "text": [
      "Train: 100%|██████████| 588/588 [00:12<00:00, 48.38it/s, acc=0.562, loss=0.857]\n",
      "Val: 100%|██████████| 147/147 [00:02<00:00, 61.73it/s, acc=0.558, loss=0.828]\n"
     ]
    },
    {
     "name": "stdout",
     "output_type": "stream",
     "text": [
      "Epoch 26: train_loss=0.8665, train_acc=0.5622 | val_loss=0.8750, val_acc=0.5582\n"
     ]
    },
    {
     "name": "stderr",
     "output_type": "stream",
     "text": [
      "Train: 100%|██████████| 588/588 [00:12<00:00, 48.36it/s, acc=0.563, loss=0.902]\n",
      "Val: 100%|██████████| 147/147 [00:02<00:00, 62.00it/s, acc=0.557, loss=0.818]\n"
     ]
    },
    {
     "name": "stdout",
     "output_type": "stream",
     "text": [
      "Epoch 27: train_loss=0.8658, train_acc=0.5628 | val_loss=0.8746, val_acc=0.5570\n"
     ]
    },
    {
     "name": "stderr",
     "output_type": "stream",
     "text": [
      "Train: 100%|██████████| 588/588 [00:12<00:00, 48.35it/s, acc=0.563, loss=0.913]\n",
      "Val: 100%|██████████| 147/147 [00:02<00:00, 62.46it/s, acc=0.558, loss=0.832]\n"
     ]
    },
    {
     "name": "stdout",
     "output_type": "stream",
     "text": [
      "Epoch 28: train_loss=0.8651, train_acc=0.5630 | val_loss=0.8746, val_acc=0.5582\n"
     ]
    },
    {
     "name": "stderr",
     "output_type": "stream",
     "text": [
      "Train: 100%|██████████| 588/588 [00:12<00:00, 48.91it/s, acc=0.564, loss=0.939]\n",
      "Val: 100%|██████████| 147/147 [00:02<00:00, 61.61it/s, acc=0.555, loss=0.828]\n"
     ]
    },
    {
     "name": "stdout",
     "output_type": "stream",
     "text": [
      "Epoch 29: train_loss=0.8645, train_acc=0.5635 | val_loss=0.8742, val_acc=0.5553\n"
     ]
    },
    {
     "name": "stderr",
     "output_type": "stream",
     "text": [
      "Train: 100%|██████████| 588/588 [00:12<00:00, 48.26it/s, acc=0.564, loss=0.848]\n",
      "Val: 100%|██████████| 147/147 [00:02<00:00, 62.19it/s, acc=0.559, loss=0.817]\n"
     ]
    },
    {
     "name": "stdout",
     "output_type": "stream",
     "text": [
      "Epoch 30: train_loss=0.8637, train_acc=0.5639 | val_loss=0.8730, val_acc=0.5589\n"
     ]
    },
    {
     "name": "stderr",
     "output_type": "stream",
     "text": [
      "Train: 100%|██████████| 588/588 [00:12<00:00, 47.84it/s, acc=0.564, loss=0.915]\n",
      "Val: 100%|██████████| 147/147 [00:02<00:00, 69.42it/s, acc=0.557, loss=0.817]\n"
     ]
    },
    {
     "name": "stdout",
     "output_type": "stream",
     "text": [
      "Epoch 31: train_loss=0.8632, train_acc=0.5641 | val_loss=0.8742, val_acc=0.5569\n"
     ]
    },
    {
     "name": "stderr",
     "output_type": "stream",
     "text": [
      "Train: 100%|██████████| 588/588 [00:12<00:00, 48.69it/s, acc=0.564, loss=0.877]\n",
      "Val: 100%|██████████| 147/147 [00:02<00:00, 61.37it/s, acc=0.557, loss=0.824]\n"
     ]
    },
    {
     "name": "stdout",
     "output_type": "stream",
     "text": [
      "Epoch 32: train_loss=0.8625, train_acc=0.5638 | val_loss=0.8737, val_acc=0.5572\n"
     ]
    },
    {
     "name": "stderr",
     "output_type": "stream",
     "text": [
      "Train: 100%|██████████| 588/588 [00:12<00:00, 45.66it/s, acc=0.565, loss=0.929]\n",
      "Val: 100%|██████████| 147/147 [00:02<00:00, 61.26it/s, acc=0.558, loss=0.823]\n"
     ]
    },
    {
     "name": "stdout",
     "output_type": "stream",
     "text": [
      "Epoch 33: train_loss=0.8617, train_acc=0.5647 | val_loss=0.8743, val_acc=0.5576\n"
     ]
    },
    {
     "name": "stderr",
     "output_type": "stream",
     "text": [
      "Train: 100%|██████████| 588/588 [00:12<00:00, 48.14it/s, acc=0.565, loss=0.887]\n",
      "Val: 100%|██████████| 147/147 [00:02<00:00, 61.35it/s, acc=0.558, loss=0.817]\n"
     ]
    },
    {
     "name": "stdout",
     "output_type": "stream",
     "text": [
      "Epoch 34: train_loss=0.8610, train_acc=0.5653 | val_loss=0.8736, val_acc=0.5576\n"
     ]
    },
    {
     "name": "stderr",
     "output_type": "stream",
     "text": [
      "Train: 100%|██████████| 588/588 [00:12<00:00, 47.68it/s, acc=0.565, loss=0.885]\n",
      "Val: 100%|██████████| 147/147 [00:02<00:00, 73.47it/s, acc=0.556, loss=0.823]\n"
     ]
    },
    {
     "name": "stdout",
     "output_type": "stream",
     "text": [
      "Epoch 35: train_loss=0.8606, train_acc=0.5652 | val_loss=0.8747, val_acc=0.5564\n"
     ]
    },
    {
     "name": "stderr",
     "output_type": "stream",
     "text": [
      "Train: 100%|██████████| 588/588 [00:12<00:00, 48.84it/s, acc=0.566, loss=0.878]\n",
      "Val: 100%|██████████| 147/147 [00:02<00:00, 61.91it/s, acc=0.558, loss=0.822]\n"
     ]
    },
    {
     "name": "stdout",
     "output_type": "stream",
     "text": [
      "Epoch 36: train_loss=0.8601, train_acc=0.5657 | val_loss=0.8735, val_acc=0.5581\n"
     ]
    },
    {
     "name": "stderr",
     "output_type": "stream",
     "text": [
      "Train: 100%|██████████| 588/588 [00:11<00:00, 49.18it/s, acc=0.567, loss=0.798]\n",
      "Val: 100%|██████████| 147/147 [00:02<00:00, 67.59it/s, acc=0.558, loss=0.814]\n"
     ]
    },
    {
     "name": "stdout",
     "output_type": "stream",
     "text": [
      "Epoch 37: train_loss=0.8592, train_acc=0.5670 | val_loss=0.8748, val_acc=0.5575\n"
     ]
    },
    {
     "name": "stderr",
     "output_type": "stream",
     "text": [
      "Train: 100%|██████████| 588/588 [00:12<00:00, 48.65it/s, acc=0.567, loss=0.905]\n",
      "Val: 100%|██████████| 147/147 [00:02<00:00, 61.13it/s, acc=0.557, loss=0.819]\n"
     ]
    },
    {
     "name": "stdout",
     "output_type": "stream",
     "text": [
      "Epoch 38: train_loss=0.8588, train_acc=0.5670 | val_loss=0.8735, val_acc=0.5568\n"
     ]
    },
    {
     "name": "stderr",
     "output_type": "stream",
     "text": [
      "Train: 100%|██████████| 588/588 [00:12<00:00, 48.46it/s, acc=0.568, loss=0.888]\n",
      "Val: 100%|██████████| 147/147 [00:02<00:00, 60.44it/s, acc=0.556, loss=0.826]\n"
     ]
    },
    {
     "name": "stdout",
     "output_type": "stream",
     "text": [
      "Epoch 39: train_loss=0.8581, train_acc=0.5678 | val_loss=0.8743, val_acc=0.5558\n"
     ]
    },
    {
     "name": "stderr",
     "output_type": "stream",
     "text": [
      "Train: 100%|██████████| 588/588 [00:12<00:00, 48.30it/s, acc=0.567, loss=0.889]\n",
      "Val: 100%|██████████| 147/147 [00:02<00:00, 60.96it/s, acc=0.558, loss=0.817]\n"
     ]
    },
    {
     "name": "stdout",
     "output_type": "stream",
     "text": [
      "Epoch 40: train_loss=0.8574, train_acc=0.5673 | val_loss=0.8747, val_acc=0.5577\n"
     ]
    },
    {
     "name": "stderr",
     "output_type": "stream",
     "text": [
      "Train: 100%|██████████| 588/588 [00:11<00:00, 49.51it/s, acc=0.568, loss=0.832]\n",
      "Val: 100%|██████████| 147/147 [00:02<00:00, 61.15it/s, acc=0.556, loss=0.826]\n"
     ]
    },
    {
     "name": "stdout",
     "output_type": "stream",
     "text": [
      "Epoch 41: train_loss=0.8569, train_acc=0.5685 | val_loss=0.8746, val_acc=0.5562\n"
     ]
    },
    {
     "name": "stderr",
     "output_type": "stream",
     "text": [
      "Train: 100%|██████████| 588/588 [00:12<00:00, 48.28it/s, acc=0.569, loss=0.858]\n",
      "Val: 100%|██████████| 147/147 [00:02<00:00, 61.70it/s, acc=0.557, loss=0.825]\n"
     ]
    },
    {
     "name": "stdout",
     "output_type": "stream",
     "text": [
      "Epoch 42: train_loss=0.8559, train_acc=0.5689 | val_loss=0.8764, val_acc=0.5568\n"
     ]
    },
    {
     "name": "stderr",
     "output_type": "stream",
     "text": [
      "Train: 100%|██████████| 588/588 [00:12<00:00, 48.30it/s, acc=0.57, loss=0.849] \n",
      "Val: 100%|██████████| 147/147 [00:02<00:00, 61.04it/s, acc=0.555, loss=0.83] \n"
     ]
    },
    {
     "name": "stdout",
     "output_type": "stream",
     "text": [
      "Epoch 43: train_loss=0.8554, train_acc=0.5698 | val_loss=0.8764, val_acc=0.5547\n"
     ]
    },
    {
     "name": "stderr",
     "output_type": "stream",
     "text": [
      "Train: 100%|██████████| 588/588 [00:12<00:00, 47.96it/s, acc=0.57, loss=0.843] \n",
      "Val: 100%|██████████| 147/147 [00:02<00:00, 62.39it/s, acc=0.557, loss=0.816]\n"
     ]
    },
    {
     "name": "stdout",
     "output_type": "stream",
     "text": [
      "Epoch 44: train_loss=0.8546, train_acc=0.5700 | val_loss=0.8759, val_acc=0.5573\n"
     ]
    },
    {
     "name": "stderr",
     "output_type": "stream",
     "text": [
      "Train: 100%|██████████| 588/588 [00:12<00:00, 48.19it/s, acc=0.57, loss=0.861] \n",
      "Val: 100%|██████████| 147/147 [00:02<00:00, 60.24it/s, acc=0.555, loss=0.824]\n"
     ]
    },
    {
     "name": "stdout",
     "output_type": "stream",
     "text": [
      "Epoch 45: train_loss=0.8541, train_acc=0.5704 | val_loss=0.8769, val_acc=0.5554\n"
     ]
    },
    {
     "name": "stderr",
     "output_type": "stream",
     "text": [
      "Train: 100%|██████████| 588/588 [00:13<00:00, 44.04it/s, acc=0.571, loss=0.954]\n",
      "Val: 100%|██████████| 147/147 [00:03<00:00, 46.68it/s, acc=0.557, loss=0.828]\n"
     ]
    },
    {
     "name": "stdout",
     "output_type": "stream",
     "text": [
      "Epoch 46: train_loss=0.8534, train_acc=0.5712 | val_loss=0.8767, val_acc=0.5566\n"
     ]
    },
    {
     "name": "stderr",
     "output_type": "stream",
     "text": [
      "Train: 100%|██████████| 588/588 [00:16<00:00, 36.46it/s, acc=0.571, loss=0.863]\n",
      "Val: 100%|██████████| 147/147 [00:02<00:00, 52.44it/s, acc=0.555, loss=0.827]\n"
     ]
    },
    {
     "name": "stdout",
     "output_type": "stream",
     "text": [
      "Epoch 47: train_loss=0.8528, train_acc=0.5712 | val_loss=0.8769, val_acc=0.5550\n"
     ]
    },
    {
     "name": "stderr",
     "output_type": "stream",
     "text": [
      "Train: 100%|██████████| 588/588 [00:12<00:00, 48.10it/s, acc=0.572, loss=0.824]\n",
      "Val: 100%|██████████| 147/147 [00:02<00:00, 60.37it/s, acc=0.556, loss=0.819]\n"
     ]
    },
    {
     "name": "stdout",
     "output_type": "stream",
     "text": [
      "Epoch 48: train_loss=0.8519, train_acc=0.5723 | val_loss=0.8795, val_acc=0.5557\n"
     ]
    },
    {
     "name": "stderr",
     "output_type": "stream",
     "text": [
      "Train: 100%|██████████| 588/588 [00:12<00:00, 48.82it/s, acc=0.573, loss=0.867]\n",
      "Val: 100%|██████████| 147/147 [00:02<00:00, 60.78it/s, acc=0.555, loss=0.829]\n"
     ]
    },
    {
     "name": "stdout",
     "output_type": "stream",
     "text": [
      "Epoch 49: train_loss=0.8512, train_acc=0.5732 | val_loss=0.8789, val_acc=0.5548\n"
     ]
    },
    {
     "name": "stderr",
     "output_type": "stream",
     "text": [
      "Train: 100%|██████████| 588/588 [00:12<00:00, 46.67it/s, acc=0.573, loss=0.857]\n",
      "Val: 100%|██████████| 147/147 [00:03<00:00, 47.69it/s, acc=0.553, loss=0.827]\n",
      "\u001b[34m\u001b[1mwandb\u001b[0m: \u001b[32m\u001b[41mERROR\u001b[0m The nbformat package was not found. It is required to save notebook history.\n"
     ]
    },
    {
     "name": "stdout",
     "output_type": "stream",
     "text": [
      "Epoch 50: train_loss=0.8506, train_acc=0.5731 | val_loss=0.8792, val_acc=0.5534\n"
     ]
    },
    {
     "data": {
      "text/html": [],
      "text/plain": [
       "<IPython.core.display.HTML object>"
      ]
     },
     "metadata": {},
     "output_type": "display_data"
    },
    {
     "data": {
      "text/html": [
       "<br>    <style><br>        .wandb-row {<br>            display: flex;<br>            flex-direction: row;<br>            flex-wrap: wrap;<br>            justify-content: flex-start;<br>            width: 100%;<br>        }<br>        .wandb-col {<br>            display: flex;<br>            flex-direction: column;<br>            flex-basis: 100%;<br>            flex: 1;<br>            padding: 10px;<br>        }<br>    </style><br><div class=\"wandb-row\"><div class=\"wandb-col\"><h3>Run history:</h3><br/><table class=\"wandb\"><tr><td>epoch</td><td>▁▁▁▁▂▂▂▂▂▃▃▃▃▃▄▄▄▄▄▄▅▅▅▅▅▆▆▆▆▆▆▇▇▇▇▇▇███</td></tr><tr><td>train_accuracy</td><td>▁▄▄▄▄▄▄▅▅▅▅▅▅▅▆▆▆▆▆▆▆▆▆▆▇▇▇▇▇▇▇▇▇▇▇█████</td></tr><tr><td>train_loss</td><td>█▇▇▆▆▆▆▅▅▅▅▄▄▄▄▄▃▃▃▃▃▃▃▃▃▂▂▂▂▂▂▂▂▂▂▁▁▁▁▁</td></tr><tr><td>val_accuracy</td><td>▁▁▂▄▃▄▄▅▃▅▆▆▆▆▆▇▇██▇█▇█▆▇▇▇▇█▇▇█▇▇▆▆▇▆▇▅</td></tr><tr><td>val_loss</td><td>█▆▅▅▅▄▄▄▃▄▃▂▃▃▂▂▁▁▁▂▁▁▁▁▁▁▁▁▁▁▁▁▁▁▂▂▂▂▂▂</td></tr></table><br/></div><div class=\"wandb-col\"><h3>Run summary:</h3><br/><table class=\"wandb\"><tr><td>epoch</td><td>50</td></tr><tr><td>train_accuracy</td><td>0.57308</td></tr><tr><td>train_loss</td><td>0.8506</td></tr><tr><td>val_accuracy</td><td>0.55335</td></tr><tr><td>val_loss</td><td>0.87917</td></tr></table><br/></div></div>"
      ],
      "text/plain": [
       "<IPython.core.display.HTML object>"
      ]
     },
     "metadata": {},
     "output_type": "display_data"
    },
    {
     "data": {
      "text/html": [
       " View run <strong style=\"color:#cdcd00\">lstm</strong> at: <a href='https://wandb.ai/junta/churn/runs/9yzso3ut' target=\"_blank\">https://wandb.ai/junta/churn/runs/9yzso3ut</a><br> View project at: <a href='https://wandb.ai/junta/churn' target=\"_blank\">https://wandb.ai/junta/churn</a><br>Synced 5 W&B file(s), 0 media file(s), 0 artifact file(s) and 0 other file(s)"
      ],
      "text/plain": [
       "<IPython.core.display.HTML object>"
      ]
     },
     "metadata": {},
     "output_type": "display_data"
    },
    {
     "data": {
      "text/html": [
       "Find logs at: <code>./wandb/run-20250531_164741-9yzso3ut/logs</code>"
      ],
      "text/plain": [
       "<IPython.core.display.HTML object>"
      ]
     },
     "metadata": {},
     "output_type": "display_data"
    }
   ],
   "source": [
    "import wandb\n",
    "\n",
    "num_epochs = 50\n",
    "\n",
    "wandb.init(project=\"churn\", name=\"lstm\")\n",
    "\n",
    "\n",
    "# 6. Training & Evaluation\n",
    "def train_epoch(model, loader, criterion, optimizer):\n",
    "    model.train()\n",
    "    total_loss, correct, total = 0, 0, 0\n",
    "    loop = tqdm(loader, desc=\"Train\")\n",
    "    for seqs, lengths, attn_mask, labels in loop:\n",
    "        optimizer.zero_grad()\n",
    "        outputs = model(seqs, lengths)\n",
    "        loss = criterion(outputs, labels)\n",
    "        loss.backward()\n",
    "        optimizer.step()\n",
    "        total_loss += loss.item() * labels.size(0)\n",
    "        preds = outputs.argmax(dim=1)\n",
    "        correct += (preds == labels).sum().item()\n",
    "        total += labels.size(0)\n",
    "        loop.set_postfix(loss=loss.item(), acc=correct / total)\n",
    "    return total_loss / total, correct / total\n",
    "\n",
    "\n",
    "def eval_epoch(model, loader, criterion):\n",
    "    model.eval()\n",
    "    total_loss, correct, total = 0, 0, 0\n",
    "    loop = tqdm(loader, desc=\"Val\")\n",
    "    with torch.no_grad():\n",
    "        for seqs, lengths, attn_mask, labels in loop:\n",
    "            outputs = model(seqs, lengths)\n",
    "            loss = criterion(outputs, labels)\n",
    "            total_loss += loss.item() * labels.size(0)\n",
    "            preds = outputs.argmax(dim=1)\n",
    "            correct += (preds == labels).sum().item()\n",
    "            total += labels.size(0)\n",
    "            loop.set_postfix(loss=loss.item(), acc=correct / total)\n",
    "    return total_loss / total, correct / total\n",
    "\n",
    "\n",
    "# Run training\n",
    "for epoch in range(1, num_epochs + 1):\n",
    "    train_loss, train_acc = train_epoch(model, train_loader, criterion, optimizer)\n",
    "    val_loss, val_acc = eval_epoch(model, val_loader, criterion)\n",
    "\n",
    "    print(\n",
    "        f\"Epoch {epoch:>2d}: train_loss={train_loss:.4f}, train_acc={train_acc:.4f} | val_loss={val_loss:.4f}, val_acc={val_acc:.4f}\"\n",
    "    )\n",
    "\n",
    "    # Log to wandb\n",
    "    wandb.log(\n",
    "        {\n",
    "            \"epoch\": epoch,\n",
    "            \"train_loss\": train_loss,\n",
    "            \"train_accuracy\": train_acc,\n",
    "            \"val_loss\": val_loss,\n",
    "            \"val_accuracy\": val_acc,\n",
    "        }\n",
    "    )\n",
    "\n",
    "wandb.finish()"
   ]
  },
  {
   "cell_type": "code",
   "execution_count": 6,
   "id": "ecd15998",
   "metadata": {},
   "outputs": [
    {
     "name": "stderr",
     "output_type": "stream",
     "text": [
      "Collecting predictions: 100%|██████████| 147/147 [00:02<00:00, 59.29it/s]\n"
     ]
    },
    {
     "name": "stdout",
     "output_type": "stream",
     "text": [
      "ROC AUC Score (OvR): 0.7415\n",
      "\n",
      "Classification Report:\n",
      "               precision    recall  f1-score   support\n",
      "\n",
      "           0       0.51      0.59      0.55     21127\n",
      "           1       0.63      0.65      0.64     34706\n",
      "           2       0.44      0.34      0.38     19394\n",
      "\n",
      "    accuracy                           0.55     75227\n",
      "   macro avg       0.53      0.53      0.52     75227\n",
      "weighted avg       0.55      0.55      0.55     75227\n",
      "\n"
     ]
    },
    {
     "data": {
      "image/png": "[encoded data removed]",
      "text/plain": [
       "<Figure size 800x600 with 2 Axes>"
      ]
     },
     "metadata": {},
     "output_type": "display_data"
    }
   ],
   "source": [
    "from sklearn.metrics import roc_auc_score, classification_report, confusion_matrix\n",
    "import seaborn as sns\n",
    "import matplotlib.pyplot as plt\n",
    "import numpy as np\n",
    "\n",
    "# 1. Collect all true labels and predicted probabilities\n",
    "model.eval()\n",
    "all_labels = []\n",
    "all_preds = []\n",
    "all_probs = []\n",
    "\n",
    "with torch.no_grad():\n",
    "    for seqs, lengths, attn_mask, labels in tqdm(\n",
    "        val_loader, desc=\"Collecting predictions\"\n",
    "    ):\n",
    "        outputs = model(seqs, lengths)\n",
    "        probs = torch.softmax(outputs, dim=1)\n",
    "        preds = outputs.argmax(dim=1)\n",
    "\n",
    "        all_labels.append(labels.cpu().numpy())\n",
    "        all_preds.append(preds.cpu().numpy())\n",
    "        all_probs.append(probs.cpu().numpy())\n",
    "\n",
    "all_labels = np.concatenate(all_labels)\n",
    "all_preds = np.concatenate(all_preds)\n",
    "all_probs = np.concatenate(all_probs)\n",
    "\n",
    "# 2. ROC AUC Score (one-vs-rest for multiclass)\n",
    "roc_auc = roc_auc_score(all_labels, all_probs, multi_class=\"ovr\")\n",
    "print(f\"ROC AUC Score (OvR): {roc_auc:.4f}\")\n",
    "\n",
    "# 3. Classification Report\n",
    "report = classification_report(all_labels, all_preds)\n",
    "print(\"\\nClassification Report:\\n\", report)\n",
    "\n",
    "# 4. Confusion Matrix\n",
    "cm = confusion_matrix(all_labels, all_preds)\n",
    "plt.figure(figsize=(8, 6))\n",
    "sns.heatmap(cm, annot=True, fmt=\"d\", cmap=\"Blues\")\n",
    "plt.title(\"Confusion Matrix Heatmap\")\n",
    "plt.xlabel(\"Predicted Labels\")\n",
    "plt.ylabel(\"True Labels\")\n",
    "plt.show()"
   ]
  }
 ],
 "metadata": {
  "kernelspec": {
   "display_name": ".venv",
   "language": "python",
   "name": "python3"
  },
  "language_info": {
   "codemirror_mode": {
    "name": "ipython",
    "version": 3
   },
   "file_extension": ".py",
   "mimetype": "text/x-python",
   "name": "python",
   "nbconvert_exporter": "python",
   "pygments_lexer": "ipython3",
   "version": "3.11.12"
  }
 },
 "nbformat": 4,
 "nbformat_minor": 5
}
